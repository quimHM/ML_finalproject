{
  "nbformat": 4,
  "nbformat_minor": 0,
  "metadata": {
    "colab": {
      "name": "ML_finalproject_QUIMHM.ipynb",
      "provenance": [],
      "collapsed_sections": [],
      "include_colab_link": true
    },
    "kernelspec": {
      "display_name": "Python 3",
      "language": "python",
      "name": "python3"
    },
    "language_info": {
      "codemirror_mode": {
        "name": "ipython",
        "version": 3
      },
      "file_extension": ".py",
      "mimetype": "text/x-python",
      "name": "python",
      "nbconvert_exporter": "python",
      "pygments_lexer": "ipython3",
      "version": "3.7.6"
    }
  },
  "cells": [
    {
      "cell_type": "markdown",
      "metadata": {
        "id": "view-in-github",
        "colab_type": "text"
      },
      "source": [
        "<a href=\"https://colab.research.google.com/github/quimHM/ML_finalproject/blob/main/ML_finalproject_QUIMHM.ipynb\" target=\"_parent\"><img src=\"https://colab.research.google.com/assets/colab-badge.svg\" alt=\"Open In Colab\"/></a>"
      ]
    },
    {
      "cell_type": "markdown",
      "metadata": {
        "id": "E61h1BI4OLQ4"
      },
      "source": [
        "# FINAL PROJECT CS401: \n",
        "\n",
        "#**PREDICTING UCI credit card approvals (and studying the BIAS in our data and model)**\n",
        "\n",
        "**Quim De Las Heras Molins (21123349)**\n",
        "\n",
        "**First Semester 2021/22**\n"
      ]
    },
    {
      "cell_type": "markdown",
      "source": [
        "This project consists in the study of a \"credit approval\" dataset, the training of a predictive model around it, and evaluation of its underlying biases, or lack thereof. Its aim is to showcase how different methods, models and tools that have been explained during this course can, indeed, be applied to data to learn actual insights from it, but also how this real-case uses can (and also have in the past) develop into palpable issues when deployed in the wild, due to their underlying biases going unchecked before their application in decision-based algorithms. It is structured in 5 main sections, namely:\n",
        "\n",
        "\n",
        "1. Introduction and motivation\n",
        "2. Inspection and pre-processing of the data\n",
        "3. Learning of a predicting model around the data\n",
        "4. Analysis of the model and rooting out of possible bias\n",
        "5. Discussion of the findings, and shortcomings\n",
        "\n",
        "\n",
        "Source of the dataset: \n",
        "\n",
        "https://archive.ics.uci.edu/ml/datasets/credit+approval"
      ],
      "metadata": {
        "id": "wyJT--8SLUNS"
      }
    },
    {
      "cell_type": "markdown",
      "source": [
        "# 1. Introduction and motivation\n",
        "\n",
        "Biases are an essential concept and building stone in Machine Learning and Aritifical Intelligence's constitution and training processes. \"Bad\" bias though, or undesired, human-made, unfair bias is something different and has itself the potential to turn all these new technologies being developed into agents every bit as damaging as they promise to be helpful and freeing.\n",
        "\n",
        "Bias can be introduced to a given dataset or model or product in a multitude of ways and of a wide amount of types, most frequently involuntarily. Althought this is indeed a immense topic to embark on, simple and actual cases have been reported and can be found where these \"bad\" biases have had real effects and consequences on people's lives, specially since companies and institutions are starting to use more and more AI-fueled alogrithms as of late in order to guide law enforcement, employment and even housing decisions:\n",
        "\n",
        "[Amazon scraps secret AI recruiting tool that showed bias against women](https://www.reuters.com/article/us-amazon-com-jobs-automation-insight-idUSKCN1MK08G)\n",
        "\n",
        "[Gender Shades: Intersectional Accuracy Disparities in\n",
        "Commercial Gender Classification](http://gendershades.org/overview.html)\n",
        "\n",
        "[Facial recognition scanners are already at some US airports](https://eu.usatoday.com/story/travel/airline-news/2019/08/16/biometric-airport-screening-facial-recognition-everything-you-need-know/1998749001/)\n",
        "\n",
        "Since a personal interest in this field existed before the topic for this same project was to be chosen, an idea on how different tools that had been discussed could be combined and used on it sprung to mind as the academic term advanced, and the subjectivity and carelessness of humans when assessing their results or the usability of certain algorithms was even touched upon several times during the course as well (i.e. when disregarding the actual capabilities of perceptrons that only really focused on hairstyles or brightness levels), the previously ennounced project was chosen as a worthy and challenging enough endeavor on which to put in practice some of the concepts adquired in the form of a final outcome for the subject.\n",
        "\n",
        "\n"
      ],
      "metadata": {
        "id": "fdqYQKLWRojw"
      }
    },
    {
      "cell_type": "markdown",
      "source": [
        "# 2. Inspection and pre-processing of the data"
      ],
      "metadata": {
        "id": "IOyHUFVUR3K-"
      }
    },
    {
      "cell_type": "code",
      "metadata": {
        "id": "KpzuLGmGpo2A"
      },
      "source": [
        "#IMPORTS AND NEEDED LIBRARIES\n",
        "import pandas as pd\n",
        "import numpy as np\n",
        "\n",
        "#DATA PREPARATION\n",
        "from sklearn.preprocessing import OrdinalEncoder\n",
        "from sklearn.model_selection import train_test_split\n",
        "from sklearn.preprocessing import StandardScaler\n",
        "\n",
        "#MODEL TRAINING AND TESTING\n",
        "from sklearn.linear_model import LogisticRegression\n",
        "from sklearn.metrics import confusion_matrix\n",
        "\n",
        "#BIAS ANALISIS\n",
        "import warnings; warnings.simplefilter('ignore')  # Fix NumPy issues.\n",
        "from sklearn.cluster import KMeans, MiniBatchKMeans\n",
        "from sklearn.metrics import silhouette_score\n",
        "from matplotlib import pyplot as plt"
      ],
      "execution_count": 314,
      "outputs": []
    },
    {
      "cell_type": "markdown",
      "metadata": {
        "id": "PHKpezrJdsIp"
      },
      "source": [
        "**DRIVE** MOUNTING (IN ORDER TO SOURCE THE INPUT DATASET FROM THE CLOUD)"
      ]
    },
    {
      "cell_type": "code",
      "metadata": {
        "colab": {
          "base_uri": "https://localhost:8080/"
        },
        "id": "Sg1oUiOVBacq",
        "outputId": "5125e662-288d-4a66-bf08-849834a16abe"
      },
      "source": [
        "from google.colab import drive\n",
        "drive.mount('/content/drive')"
      ],
      "execution_count": 315,
      "outputs": [
        {
          "output_type": "stream",
          "name": "stdout",
          "text": [
            "Drive already mounted at /content/drive; to attempt to forcibly remount, call drive.mount(\"/content/drive\", force_remount=True).\n"
          ]
        }
      ]
    },
    {
      "cell_type": "markdown",
      "metadata": {
        "id": "HxqZYK7bd2kk"
      },
      "source": [
        "**IMPORTING** OF THE DATASET (EDITABLE TO CHANGE INPUT SOURCE ACCORDINGLY)"
      ]
    },
    {
      "cell_type": "code",
      "metadata": {
        "colab": {
          "base_uri": "https://localhost:8080/",
          "height": 206
        },
        "id": "uYM4mySapciZ",
        "outputId": "8f652f82-9389-484f-8375-3067594060c2"
      },
      "source": [
        "# Load dataset\n",
        "dataset = pd.read_csv('/content/drive/MyDrive/ML (maynooth)/FINAL PROJECT/credit.data', header=None)#TODO: COMMENT TO RUN LOCALY\n",
        "#dataset = pd.read_csv('/credit.data', header=None) #TODO: UNCOMMENT FOR LOCAL EXECUTION, IF INPUT IN THE SAME DIRECTORY\n",
        "\n",
        "# Inspect data and check correct reading of the input file\n",
        "dataset.head()"
      ],
      "execution_count": 316,
      "outputs": [
        {
          "output_type": "execute_result",
          "data": {
            "text/html": [
              "\n",
              "  <div id=\"df-cdf8204c-59c5-4016-9018-73b90b47ec7b\">\n",
              "    <div class=\"colab-df-container\">\n",
              "      <div>\n",
              "<style scoped>\n",
              "    .dataframe tbody tr th:only-of-type {\n",
              "        vertical-align: middle;\n",
              "    }\n",
              "\n",
              "    .dataframe tbody tr th {\n",
              "        vertical-align: top;\n",
              "    }\n",
              "\n",
              "    .dataframe thead th {\n",
              "        text-align: right;\n",
              "    }\n",
              "</style>\n",
              "<table border=\"1\" class=\"dataframe\">\n",
              "  <thead>\n",
              "    <tr style=\"text-align: right;\">\n",
              "      <th></th>\n",
              "      <th>0</th>\n",
              "      <th>1</th>\n",
              "      <th>2</th>\n",
              "      <th>3</th>\n",
              "      <th>4</th>\n",
              "      <th>5</th>\n",
              "      <th>6</th>\n",
              "      <th>7</th>\n",
              "      <th>8</th>\n",
              "      <th>9</th>\n",
              "      <th>10</th>\n",
              "      <th>11</th>\n",
              "      <th>12</th>\n",
              "      <th>13</th>\n",
              "      <th>14</th>\n",
              "      <th>15</th>\n",
              "    </tr>\n",
              "  </thead>\n",
              "  <tbody>\n",
              "    <tr>\n",
              "      <th>0</th>\n",
              "      <td>b</td>\n",
              "      <td>30.83</td>\n",
              "      <td>0.000</td>\n",
              "      <td>u</td>\n",
              "      <td>g</td>\n",
              "      <td>w</td>\n",
              "      <td>v</td>\n",
              "      <td>1.25</td>\n",
              "      <td>t</td>\n",
              "      <td>t</td>\n",
              "      <td>1</td>\n",
              "      <td>f</td>\n",
              "      <td>g</td>\n",
              "      <td>00202</td>\n",
              "      <td>0</td>\n",
              "      <td>+</td>\n",
              "    </tr>\n",
              "    <tr>\n",
              "      <th>1</th>\n",
              "      <td>a</td>\n",
              "      <td>58.67</td>\n",
              "      <td>4.460</td>\n",
              "      <td>u</td>\n",
              "      <td>g</td>\n",
              "      <td>q</td>\n",
              "      <td>h</td>\n",
              "      <td>3.04</td>\n",
              "      <td>t</td>\n",
              "      <td>t</td>\n",
              "      <td>6</td>\n",
              "      <td>f</td>\n",
              "      <td>g</td>\n",
              "      <td>00043</td>\n",
              "      <td>560</td>\n",
              "      <td>+</td>\n",
              "    </tr>\n",
              "    <tr>\n",
              "      <th>2</th>\n",
              "      <td>a</td>\n",
              "      <td>24.50</td>\n",
              "      <td>0.500</td>\n",
              "      <td>u</td>\n",
              "      <td>g</td>\n",
              "      <td>q</td>\n",
              "      <td>h</td>\n",
              "      <td>1.50</td>\n",
              "      <td>t</td>\n",
              "      <td>f</td>\n",
              "      <td>0</td>\n",
              "      <td>f</td>\n",
              "      <td>g</td>\n",
              "      <td>00280</td>\n",
              "      <td>824</td>\n",
              "      <td>+</td>\n",
              "    </tr>\n",
              "    <tr>\n",
              "      <th>3</th>\n",
              "      <td>b</td>\n",
              "      <td>27.83</td>\n",
              "      <td>1.540</td>\n",
              "      <td>u</td>\n",
              "      <td>g</td>\n",
              "      <td>w</td>\n",
              "      <td>v</td>\n",
              "      <td>3.75</td>\n",
              "      <td>t</td>\n",
              "      <td>t</td>\n",
              "      <td>5</td>\n",
              "      <td>t</td>\n",
              "      <td>g</td>\n",
              "      <td>00100</td>\n",
              "      <td>3</td>\n",
              "      <td>+</td>\n",
              "    </tr>\n",
              "    <tr>\n",
              "      <th>4</th>\n",
              "      <td>b</td>\n",
              "      <td>20.17</td>\n",
              "      <td>5.625</td>\n",
              "      <td>u</td>\n",
              "      <td>g</td>\n",
              "      <td>w</td>\n",
              "      <td>v</td>\n",
              "      <td>1.71</td>\n",
              "      <td>t</td>\n",
              "      <td>f</td>\n",
              "      <td>0</td>\n",
              "      <td>f</td>\n",
              "      <td>s</td>\n",
              "      <td>00120</td>\n",
              "      <td>0</td>\n",
              "      <td>+</td>\n",
              "    </tr>\n",
              "  </tbody>\n",
              "</table>\n",
              "</div>\n",
              "      <button class=\"colab-df-convert\" onclick=\"convertToInteractive('df-cdf8204c-59c5-4016-9018-73b90b47ec7b')\"\n",
              "              title=\"Convert this dataframe to an interactive table.\"\n",
              "              style=\"display:none;\">\n",
              "        \n",
              "  <svg xmlns=\"http://www.w3.org/2000/svg\" height=\"24px\"viewBox=\"0 0 24 24\"\n",
              "       width=\"24px\">\n",
              "    <path d=\"M0 0h24v24H0V0z\" fill=\"none\"/>\n",
              "    <path d=\"M18.56 5.44l.94 2.06.94-2.06 2.06-.94-2.06-.94-.94-2.06-.94 2.06-2.06.94zm-11 1L8.5 8.5l.94-2.06 2.06-.94-2.06-.94L8.5 2.5l-.94 2.06-2.06.94zm10 10l.94 2.06.94-2.06 2.06-.94-2.06-.94-.94-2.06-.94 2.06-2.06.94z\"/><path d=\"M17.41 7.96l-1.37-1.37c-.4-.4-.92-.59-1.43-.59-.52 0-1.04.2-1.43.59L10.3 9.45l-7.72 7.72c-.78.78-.78 2.05 0 2.83L4 21.41c.39.39.9.59 1.41.59.51 0 1.02-.2 1.41-.59l7.78-7.78 2.81-2.81c.8-.78.8-2.07 0-2.86zM5.41 20L4 18.59l7.72-7.72 1.47 1.35L5.41 20z\"/>\n",
              "  </svg>\n",
              "      </button>\n",
              "      \n",
              "  <style>\n",
              "    .colab-df-container {\n",
              "      display:flex;\n",
              "      flex-wrap:wrap;\n",
              "      gap: 12px;\n",
              "    }\n",
              "\n",
              "    .colab-df-convert {\n",
              "      background-color: #E8F0FE;\n",
              "      border: none;\n",
              "      border-radius: 50%;\n",
              "      cursor: pointer;\n",
              "      display: none;\n",
              "      fill: #1967D2;\n",
              "      height: 32px;\n",
              "      padding: 0 0 0 0;\n",
              "      width: 32px;\n",
              "    }\n",
              "\n",
              "    .colab-df-convert:hover {\n",
              "      background-color: #E2EBFA;\n",
              "      box-shadow: 0px 1px 2px rgba(60, 64, 67, 0.3), 0px 1px 3px 1px rgba(60, 64, 67, 0.15);\n",
              "      fill: #174EA6;\n",
              "    }\n",
              "\n",
              "    [theme=dark] .colab-df-convert {\n",
              "      background-color: #3B4455;\n",
              "      fill: #D2E3FC;\n",
              "    }\n",
              "\n",
              "    [theme=dark] .colab-df-convert:hover {\n",
              "      background-color: #434B5C;\n",
              "      box-shadow: 0px 1px 3px 1px rgba(0, 0, 0, 0.15);\n",
              "      filter: drop-shadow(0px 1px 2px rgba(0, 0, 0, 0.3));\n",
              "      fill: #FFFFFF;\n",
              "    }\n",
              "  </style>\n",
              "\n",
              "      <script>\n",
              "        const buttonEl =\n",
              "          document.querySelector('#df-cdf8204c-59c5-4016-9018-73b90b47ec7b button.colab-df-convert');\n",
              "        buttonEl.style.display =\n",
              "          google.colab.kernel.accessAllowed ? 'block' : 'none';\n",
              "\n",
              "        async function convertToInteractive(key) {\n",
              "          const element = document.querySelector('#df-cdf8204c-59c5-4016-9018-73b90b47ec7b');\n",
              "          const dataTable =\n",
              "            await google.colab.kernel.invokeFunction('convertToInteractive',\n",
              "                                                     [key], {});\n",
              "          if (!dataTable) return;\n",
              "\n",
              "          const docLinkHtml = 'Like what you see? Visit the ' +\n",
              "            '<a target=\"_blank\" href=https://colab.research.google.com/notebooks/data_table.ipynb>data table notebook</a>'\n",
              "            + ' to learn more about interactive tables.';\n",
              "          element.innerHTML = '';\n",
              "          dataTable['output_type'] = 'display_data';\n",
              "          await google.colab.output.renderOutput(dataTable, element);\n",
              "          const docLink = document.createElement('div');\n",
              "          docLink.innerHTML = docLinkHtml;\n",
              "          element.appendChild(docLink);\n",
              "        }\n",
              "      </script>\n",
              "    </div>\n",
              "  </div>\n",
              "  "
            ],
            "text/plain": [
              "  0      1      2  3  4  5  6     7  8  9   10 11 12     13   14 15\n",
              "0  b  30.83  0.000  u  g  w  v  1.25  t  t   1  f  g  00202    0  +\n",
              "1  a  58.67  4.460  u  g  q  h  3.04  t  t   6  f  g  00043  560  +\n",
              "2  a  24.50  0.500  u  g  q  h  1.50  t  f   0  f  g  00280  824  +\n",
              "3  b  27.83  1.540  u  g  w  v  3.75  t  t   5  t  g  00100    3  +\n",
              "4  b  20.17  5.625  u  g  w  v  1.71  t  f   0  f  s  00120    0  +"
            ]
          },
          "metadata": {},
          "execution_count": 316
        }
      ]
    },
    {
      "cell_type": "markdown",
      "metadata": {
        "id": "6y8R_v8ufS2t"
      },
      "source": [
        "# DATA **INSPECTION**"
      ]
    },
    {
      "cell_type": "markdown",
      "source": [
        "The dataset consists of 690 instances of 16 features (specifically we have float64, int64 and object data types).\n",
        "\n",
        "\n",
        "Some features are numerical, spread across different apparent range widths, and some features have categorical values, and have been transformed into meaningless symbols to protect the confidentiality of the data. The features themselves also don't have indicative names about what they represent either. \n",
        "\n",
        "However, this [blog by Ryan Khuhn](https://rstudio-pubs-static.s3.amazonaws.com/73039_9946de135c0a49daa7a0a9eda4a67a72.html#exploratory-analysis-and-data-transformations) does offer us some insight on the probable labels that are being encoded, based on the informations that are frequently present in similarly-purposed datasets. These are, in order:\n",
        "\n",
        "*Gender, Age, Debt, Married, BankCustomer, EducationLevel, Ethnicity, YearsEmployed, PriorDefault, Employed, CreditScore, DriversLicense, Citizen, ZipCode, Income* and finally the *ApprovalStatus*\n",
        "\n",
        "Due to the highly multidimensional nature of the dataset it is hard to visualize it or plot it in an immediately accessible way. We'll deal with this later, in order to better ascertain the connections between the different variables, their effect on each other, and the legitimacy of these influences. \n",
        "\n",
        "Lastly, whilst on first glance it would seem that no null or empty records exist in the dataframe, a closer inspection to some of the unique values of the non-numerical fetures quickly revealed that missing entries are being filled with '?' symbols across the whole structure, and therefore not detected as such."
      ],
      "metadata": {
        "id": "XNIWoz6K138u"
      }
    },
    {
      "cell_type": "code",
      "metadata": {
        "id": "Eri9MUPSpiu6",
        "colab": {
          "base_uri": "https://localhost:8080/"
        },
        "outputId": "f40d3f14-8b4d-4ca6-b690-e232171b49ef"
      },
      "source": [
        "# Print Dataframe information summary (690 samples, no nulls, 15 features and 1 binary output label, different ranges for each feature)\n",
        "print(dataset.describe())\n",
        "print(dataset.info())\n",
        "somenonnumerical = [0,3,4,5,6]\n",
        "for i in somenonnumerical: print(i,pd.unique(dataset[i]))"
      ],
      "execution_count": 317,
      "outputs": [
        {
          "output_type": "stream",
          "name": "stdout",
          "text": [
            "               2           7          10             14\n",
            "count  690.000000  690.000000  690.00000     690.000000\n",
            "mean     4.758725    2.223406    2.40000    1017.385507\n",
            "std      4.978163    3.346513    4.86294    5210.102598\n",
            "min      0.000000    0.000000    0.00000       0.000000\n",
            "25%      1.000000    0.165000    0.00000       0.000000\n",
            "50%      2.750000    1.000000    0.00000       5.000000\n",
            "75%      7.207500    2.625000    3.00000     395.500000\n",
            "max     28.000000   28.500000   67.00000  100000.000000\n",
            "<class 'pandas.core.frame.DataFrame'>\n",
            "RangeIndex: 690 entries, 0 to 689\n",
            "Data columns (total 16 columns):\n",
            " #   Column  Non-Null Count  Dtype  \n",
            "---  ------  --------------  -----  \n",
            " 0   0       690 non-null    object \n",
            " 1   1       690 non-null    object \n",
            " 2   2       690 non-null    float64\n",
            " 3   3       690 non-null    object \n",
            " 4   4       690 non-null    object \n",
            " 5   5       690 non-null    object \n",
            " 6   6       690 non-null    object \n",
            " 7   7       690 non-null    float64\n",
            " 8   8       690 non-null    object \n",
            " 9   9       690 non-null    object \n",
            " 10  10      690 non-null    int64  \n",
            " 11  11      690 non-null    object \n",
            " 12  12      690 non-null    object \n",
            " 13  13      690 non-null    object \n",
            " 14  14      690 non-null    int64  \n",
            " 15  15      690 non-null    object \n",
            "dtypes: float64(2), int64(2), object(12)\n",
            "memory usage: 86.4+ KB\n",
            "None\n",
            "0 ['b' 'a' '?']\n",
            "3 ['u' 'y' '?' 'l']\n",
            "4 ['g' 'p' '?' 'gg']\n",
            "5 ['w' 'q' 'm' 'r' 'cc' 'k' 'c' 'd' 'x' 'i' 'e' 'aa' 'ff' 'j' '?']\n",
            "6 ['v' 'h' 'bb' 'ff' 'j' 'z' '?' 'o' 'dd' 'n']\n"
          ]
        }
      ]
    },
    {
      "cell_type": "markdown",
      "metadata": {
        "id": "njFcFJIufbeE"
      },
      "source": [
        "# DATA **PRE-PROCESSING**"
      ]
    },
    {
      "cell_type": "markdown",
      "source": [
        "Before trying to ascertain a predictive model that can learn from and act like our dataset we have to deal with some issues regarding its structure and individual entries. This would be true even if we didn't plan to use any ML technique on it and we just wanted to find and report any useful statistical characteristics about it. \n",
        "\n",
        "1.   Deal with empty entries\n",
        "2.   Transform categorical features\n",
        "3.   Normalize unequal ranges\n",
        "4.   Divide dataset between train and test sets (to confirm any insight acquired)"
      ],
      "metadata": {
        "id": "kFSFKC0F7Sx1"
      }
    },
    {
      "cell_type": "code",
      "metadata": {
        "colab": {
          "base_uri": "https://localhost:8080/"
        },
        "id": "7lXJBS1QOLRC",
        "outputId": "e3a5ab8c-aef4-4d4c-cc67-ef0d0a935e4d"
      },
      "source": [
        "print(\"Original length:\", len(dataset.values))\n",
        "print(\"Amount of 'evident' null values:\",dataset.isnull().values.sum(),\"\\n\")\n",
        "\n",
        "# '?' -> null\n",
        "dataset = dataset.replace('?', np.nan) \n",
        "print(\"Unchanged length:\",len(dataset.values))              \n",
        "print(\"Updated, real, amount of null values:\",dataset.isnull().values.sum(),\"\\n\")\n",
        "\n",
        "# 1. DESIGN DECISION: entries containing null values are droped. \n",
        "# (other ways to deal with null values, through data imputation: https://towardsdatascience.com/6-different-ways-to-compensate-for-missing-values-data-imputation-with-examples-6022d9ca0779)\n",
        "dataset=dataset.dropna()\n",
        "print(\"Usable length after dropping null values:\",len(dataset.values))\n",
        "print(\"Amount of null values in reduced dataset:\",dataset.isnull().values.sum())"
      ],
      "execution_count": 318,
      "outputs": [
        {
          "output_type": "stream",
          "name": "stdout",
          "text": [
            "Original length: 690\n",
            "Amount of 'evident' null values: 0 \n",
            "\n",
            "Unchanged length: 690\n",
            "Updated, real, amount of null values: 67 \n",
            "\n",
            "Usable length after dropping null values: 653\n",
            "Amount of null values in reduced dataset: 0\n"
          ]
        }
      ]
    },
    {
      "cell_type": "code",
      "metadata": {
        "id": "d0ETuXBrOLRE",
        "colab": {
          "base_uri": "https://localhost:8080/",
          "height": 206
        },
        "outputId": "d183901b-363b-476a-e5d3-2ab0aeeea556"
      },
      "source": [
        "# Binary categorical target feature is \"encoded\" manually to ensure '+'=1, '-'=0\n",
        "dataset[15].replace('+', 1.0, inplace=True)\n",
        "dataset[15].replace('-', 0.0, inplace=True)\n",
        "\n",
        "# 2. DESIGN DECISION: features containing categorical values are encoded using OrdinalEncoder()\n",
        "# (other ways to deal with categorical features: https://pbpython.com/categorical-encoding.html)\n",
        "oe = OrdinalEncoder() \n",
        "\n",
        "for col in dataset.columns:\n",
        "    if dataset[col].dtype=='object':\n",
        "        dataset[col] = oe.fit_transform(dataset[[col]])\n",
        "dataset.head() # Check updated data types"
      ],
      "execution_count": 319,
      "outputs": [
        {
          "output_type": "execute_result",
          "data": {
            "text/html": [
              "\n",
              "  <div id=\"df-e17d9f1d-8d83-4db4-b4c7-7a092f7da8f9\">\n",
              "    <div class=\"colab-df-container\">\n",
              "      <div>\n",
              "<style scoped>\n",
              "    .dataframe tbody tr th:only-of-type {\n",
              "        vertical-align: middle;\n",
              "    }\n",
              "\n",
              "    .dataframe tbody tr th {\n",
              "        vertical-align: top;\n",
              "    }\n",
              "\n",
              "    .dataframe thead th {\n",
              "        text-align: right;\n",
              "    }\n",
              "</style>\n",
              "<table border=\"1\" class=\"dataframe\">\n",
              "  <thead>\n",
              "    <tr style=\"text-align: right;\">\n",
              "      <th></th>\n",
              "      <th>0</th>\n",
              "      <th>1</th>\n",
              "      <th>2</th>\n",
              "      <th>3</th>\n",
              "      <th>4</th>\n",
              "      <th>5</th>\n",
              "      <th>6</th>\n",
              "      <th>7</th>\n",
              "      <th>8</th>\n",
              "      <th>9</th>\n",
              "      <th>10</th>\n",
              "      <th>11</th>\n",
              "      <th>12</th>\n",
              "      <th>13</th>\n",
              "      <th>14</th>\n",
              "      <th>15</th>\n",
              "    </tr>\n",
              "  </thead>\n",
              "  <tbody>\n",
              "    <tr>\n",
              "      <th>0</th>\n",
              "      <td>1.0</td>\n",
              "      <td>153.0</td>\n",
              "      <td>0.000</td>\n",
              "      <td>1.0</td>\n",
              "      <td>0.0</td>\n",
              "      <td>12.0</td>\n",
              "      <td>7.0</td>\n",
              "      <td>1.25</td>\n",
              "      <td>1.0</td>\n",
              "      <td>1.0</td>\n",
              "      <td>1</td>\n",
              "      <td>0.0</td>\n",
              "      <td>0.0</td>\n",
              "      <td>68.0</td>\n",
              "      <td>0</td>\n",
              "      <td>1.0</td>\n",
              "    </tr>\n",
              "    <tr>\n",
              "      <th>1</th>\n",
              "      <td>0.0</td>\n",
              "      <td>321.0</td>\n",
              "      <td>4.460</td>\n",
              "      <td>1.0</td>\n",
              "      <td>0.0</td>\n",
              "      <td>10.0</td>\n",
              "      <td>3.0</td>\n",
              "      <td>3.04</td>\n",
              "      <td>1.0</td>\n",
              "      <td>1.0</td>\n",
              "      <td>6</td>\n",
              "      <td>0.0</td>\n",
              "      <td>0.0</td>\n",
              "      <td>11.0</td>\n",
              "      <td>560</td>\n",
              "      <td>1.0</td>\n",
              "    </tr>\n",
              "    <tr>\n",
              "      <th>2</th>\n",
              "      <td>0.0</td>\n",
              "      <td>88.0</td>\n",
              "      <td>0.500</td>\n",
              "      <td>1.0</td>\n",
              "      <td>0.0</td>\n",
              "      <td>10.0</td>\n",
              "      <td>3.0</td>\n",
              "      <td>1.50</td>\n",
              "      <td>1.0</td>\n",
              "      <td>0.0</td>\n",
              "      <td>0</td>\n",
              "      <td>0.0</td>\n",
              "      <td>0.0</td>\n",
              "      <td>94.0</td>\n",
              "      <td>824</td>\n",
              "      <td>1.0</td>\n",
              "    </tr>\n",
              "    <tr>\n",
              "      <th>3</th>\n",
              "      <td>1.0</td>\n",
              "      <td>123.0</td>\n",
              "      <td>1.540</td>\n",
              "      <td>1.0</td>\n",
              "      <td>0.0</td>\n",
              "      <td>12.0</td>\n",
              "      <td>7.0</td>\n",
              "      <td>3.75</td>\n",
              "      <td>1.0</td>\n",
              "      <td>1.0</td>\n",
              "      <td>5</td>\n",
              "      <td>1.0</td>\n",
              "      <td>0.0</td>\n",
              "      <td>31.0</td>\n",
              "      <td>3</td>\n",
              "      <td>1.0</td>\n",
              "    </tr>\n",
              "    <tr>\n",
              "      <th>4</th>\n",
              "      <td>1.0</td>\n",
              "      <td>42.0</td>\n",
              "      <td>5.625</td>\n",
              "      <td>1.0</td>\n",
              "      <td>0.0</td>\n",
              "      <td>12.0</td>\n",
              "      <td>7.0</td>\n",
              "      <td>1.71</td>\n",
              "      <td>1.0</td>\n",
              "      <td>0.0</td>\n",
              "      <td>0</td>\n",
              "      <td>0.0</td>\n",
              "      <td>2.0</td>\n",
              "      <td>37.0</td>\n",
              "      <td>0</td>\n",
              "      <td>1.0</td>\n",
              "    </tr>\n",
              "  </tbody>\n",
              "</table>\n",
              "</div>\n",
              "      <button class=\"colab-df-convert\" onclick=\"convertToInteractive('df-e17d9f1d-8d83-4db4-b4c7-7a092f7da8f9')\"\n",
              "              title=\"Convert this dataframe to an interactive table.\"\n",
              "              style=\"display:none;\">\n",
              "        \n",
              "  <svg xmlns=\"http://www.w3.org/2000/svg\" height=\"24px\"viewBox=\"0 0 24 24\"\n",
              "       width=\"24px\">\n",
              "    <path d=\"M0 0h24v24H0V0z\" fill=\"none\"/>\n",
              "    <path d=\"M18.56 5.44l.94 2.06.94-2.06 2.06-.94-2.06-.94-.94-2.06-.94 2.06-2.06.94zm-11 1L8.5 8.5l.94-2.06 2.06-.94-2.06-.94L8.5 2.5l-.94 2.06-2.06.94zm10 10l.94 2.06.94-2.06 2.06-.94-2.06-.94-.94-2.06-.94 2.06-2.06.94z\"/><path d=\"M17.41 7.96l-1.37-1.37c-.4-.4-.92-.59-1.43-.59-.52 0-1.04.2-1.43.59L10.3 9.45l-7.72 7.72c-.78.78-.78 2.05 0 2.83L4 21.41c.39.39.9.59 1.41.59.51 0 1.02-.2 1.41-.59l7.78-7.78 2.81-2.81c.8-.78.8-2.07 0-2.86zM5.41 20L4 18.59l7.72-7.72 1.47 1.35L5.41 20z\"/>\n",
              "  </svg>\n",
              "      </button>\n",
              "      \n",
              "  <style>\n",
              "    .colab-df-container {\n",
              "      display:flex;\n",
              "      flex-wrap:wrap;\n",
              "      gap: 12px;\n",
              "    }\n",
              "\n",
              "    .colab-df-convert {\n",
              "      background-color: #E8F0FE;\n",
              "      border: none;\n",
              "      border-radius: 50%;\n",
              "      cursor: pointer;\n",
              "      display: none;\n",
              "      fill: #1967D2;\n",
              "      height: 32px;\n",
              "      padding: 0 0 0 0;\n",
              "      width: 32px;\n",
              "    }\n",
              "\n",
              "    .colab-df-convert:hover {\n",
              "      background-color: #E2EBFA;\n",
              "      box-shadow: 0px 1px 2px rgba(60, 64, 67, 0.3), 0px 1px 3px 1px rgba(60, 64, 67, 0.15);\n",
              "      fill: #174EA6;\n",
              "    }\n",
              "\n",
              "    [theme=dark] .colab-df-convert {\n",
              "      background-color: #3B4455;\n",
              "      fill: #D2E3FC;\n",
              "    }\n",
              "\n",
              "    [theme=dark] .colab-df-convert:hover {\n",
              "      background-color: #434B5C;\n",
              "      box-shadow: 0px 1px 3px 1px rgba(0, 0, 0, 0.15);\n",
              "      filter: drop-shadow(0px 1px 2px rgba(0, 0, 0, 0.3));\n",
              "      fill: #FFFFFF;\n",
              "    }\n",
              "  </style>\n",
              "\n",
              "      <script>\n",
              "        const buttonEl =\n",
              "          document.querySelector('#df-e17d9f1d-8d83-4db4-b4c7-7a092f7da8f9 button.colab-df-convert');\n",
              "        buttonEl.style.display =\n",
              "          google.colab.kernel.accessAllowed ? 'block' : 'none';\n",
              "\n",
              "        async function convertToInteractive(key) {\n",
              "          const element = document.querySelector('#df-e17d9f1d-8d83-4db4-b4c7-7a092f7da8f9');\n",
              "          const dataTable =\n",
              "            await google.colab.kernel.invokeFunction('convertToInteractive',\n",
              "                                                     [key], {});\n",
              "          if (!dataTable) return;\n",
              "\n",
              "          const docLinkHtml = 'Like what you see? Visit the ' +\n",
              "            '<a target=\"_blank\" href=https://colab.research.google.com/notebooks/data_table.ipynb>data table notebook</a>'\n",
              "            + ' to learn more about interactive tables.';\n",
              "          element.innerHTML = '';\n",
              "          dataTable['output_type'] = 'display_data';\n",
              "          await google.colab.output.renderOutput(dataTable, element);\n",
              "          const docLink = document.createElement('div');\n",
              "          docLink.innerHTML = docLinkHtml;\n",
              "          element.appendChild(docLink);\n",
              "        }\n",
              "      </script>\n",
              "    </div>\n",
              "  </div>\n",
              "  "
            ],
            "text/plain": [
              "    0      1      2    3    4     5    6   ...   9   10   11   12    13   14   15\n",
              "0  1.0  153.0  0.000  1.0  0.0  12.0  7.0  ...  1.0   1  0.0  0.0  68.0    0  1.0\n",
              "1  0.0  321.0  4.460  1.0  0.0  10.0  3.0  ...  1.0   6  0.0  0.0  11.0  560  1.0\n",
              "2  0.0   88.0  0.500  1.0  0.0  10.0  3.0  ...  0.0   0  0.0  0.0  94.0  824  1.0\n",
              "3  1.0  123.0  1.540  1.0  0.0  12.0  7.0  ...  1.0   5  1.0  0.0  31.0    3  1.0\n",
              "4  1.0   42.0  5.625  1.0  0.0  12.0  7.0  ...  0.0   0  0.0  2.0  37.0    0  1.0\n",
              "\n",
              "[5 rows x 16 columns]"
            ]
          },
          "metadata": {},
          "execution_count": 319
        }
      ]
    },
    {
      "cell_type": "code",
      "metadata": {
        "id": "xiuolDSupsLd"
      },
      "source": [
        "# Separate features (columns 0-14) and labels (column 15) of final, processed dataset, into X and y\n",
        "X, y = dataset.iloc[:, 0: 15].values, dataset.iloc[:,15].values\n",
        "\n",
        "# 3. Input X features are normalized, all scaled to the 0-1 range\n",
        "sc = StandardScaler()\n",
        "X = sc.fit_transform(X)"
      ],
      "execution_count": 320,
      "outputs": []
    },
    {
      "cell_type": "code",
      "source": [
        "# 4. Scaled data is split into train and test sets (to check against overfitting, a 0.66-0.33 rate is chosen, could be 0.8-0.2 etc)\n",
        "X_train, X_test, y_train, y_test = train_test_split(X, y, test_size = 0.33, random_state = 69)\n",
        "print(X_train.shape, X_test.shape, y_train.shape, y_test.shape)"
      ],
      "metadata": {
        "colab": {
          "base_uri": "https://localhost:8080/"
        },
        "id": "4QtkBD6LYUoZ",
        "outputId": "75d60f99-afc5-415e-a17d-26367b9a97d1"
      },
      "execution_count": 321,
      "outputs": [
        {
          "output_type": "stream",
          "name": "stdout",
          "text": [
            "(437, 15) (216, 15) (437,) (216,)\n"
          ]
        }
      ]
    },
    {
      "cell_type": "markdown",
      "metadata": {
        "id": "sKsyjgDffdEE"
      },
      "source": [
        "# 3. Learning of a predicting model around the data\n",
        "For this, a Logistic Regression model is chosen to predict the outcome of simmilarly generated data. \n",
        "\n",
        "It is a regression model that differentiates itself from the Linear Regression model introduced during the course in the fact that it is used to predict the most probable result of a categorical variable, that is, can only fall inside a limited range of possibilites. \n",
        "\n",
        "In this case it is a binary classification task (\"Approved/Denied\"), but this model can be extended to discern among a higher amount of probable classes as well, such as trying to determine which digit is being represented in a handrwitten image (i.e as in the MNIST dataset), which species of flower has a determined combination of telling attributes (i.e. as in the Iris dataset). Each label being assessed is given probability between 0 and 1, with a sum of one.\n",
        "\n",
        "Default sklearn parameters proved to produce a 87% accurate classifier without further tampering of them being required, and additional combinations of the arguments regarding maximum amount of iterations before convergence, or tolerance in order to call it, didn't produce a more solid model. \n",
        "\n",
        "Furthermore, proceeding with this admitably simple configuration of a model, precisely with the purpose of following it up with further study to possibly identify any unwanted biases on it, would allow for an even clearer and obvious advert against trusting certain models without questioning their inner workings more exhaustively beforehand.\n"
      ]
    },
    {
      "cell_type": "code",
      "metadata": {
        "id": "noUVTzK-OLRG"
      },
      "source": [
        "logreg = LogisticRegression() #default params (i.e tol=1e-4, max_iter=100,...)"
      ],
      "execution_count": 322,
      "outputs": []
    },
    {
      "cell_type": "markdown",
      "metadata": {
        "id": "UOp3WChqFd5I"
      },
      "source": [
        "MODEL **TRAINING**"
      ]
    },
    {
      "cell_type": "code",
      "source": [
        "# Train sets are used (66%)\n",
        "logreg.fit(X_train, y_train)"
      ],
      "metadata": {
        "colab": {
          "base_uri": "https://localhost:8080/"
        },
        "id": "vBU5FIaiFb_u",
        "outputId": "63dd687a-c059-47bc-f3e0-1a2bba5c9899"
      },
      "execution_count": 323,
      "outputs": [
        {
          "output_type": "execute_result",
          "data": {
            "text/plain": [
              "LogisticRegression()"
            ]
          },
          "metadata": {},
          "execution_count": 323
        }
      ]
    },
    {
      "cell_type": "markdown",
      "source": [
        "ESTIMATOR **EVALUATION**"
      ],
      "metadata": {
        "id": "qpF5jDnHFwd9"
      }
    },
    {
      "cell_type": "code",
      "metadata": {
        "colab": {
          "base_uri": "https://localhost:8080/"
        },
        "id": "J9fqtRqsOLRH",
        "outputId": "7fa5aadf-19af-4fba-c9b4-a32ba70a5815"
      },
      "source": [
        "# Test sets are used (33%)\n",
        "print(\"Accuracy of logistic regression classifier: \", logreg.score(X_test, y_test))\n",
        "y_pred = logreg.predict(X_test) \n",
        "print(confusion_matrix(y_test, y_pred))"
      ],
      "execution_count": 324,
      "outputs": [
        {
          "output_type": "stream",
          "name": "stdout",
          "text": [
            "Accuracy of logistic regression classifier:  0.8703703703703703\n",
            "[[95 21]\n",
            " [ 7 93]]\n"
          ]
        }
      ]
    },
    {
      "cell_type": "markdown",
      "source": [
        "# 4. Analysis of the model and rooting out of possible bias\n",
        "\n",
        "The proposed method to evidence an existence of biases in the recently trained model, or lack thereof, is to visualize how it performs for the different \"profiles\" of costumers or data points archetypes, and check for the reasons behind their differences, if found.\n",
        "\n",
        "These user types are extracted and synthesized from the dataset by making use of an unsupervised clustering techique also showcased during the course, K-means.\n",
        "\n",
        "Then, faults in the model could be found in, at least, two instances:\n",
        "\n",
        "*   Criteria of eligibility: \n",
        "\n",
        "For some clusters to be more frequently \"approved\" than others is absolutely to be expected. The problem, then, would reside in whether the reasons behind these differences are found not to be just financial in nature.\n",
        "\n",
        "*   Dependability of these criteria:\n",
        "\n",
        "If the model performed less reliably for some cluster than for others, that would mean that, when left to decide the fate of these credit applications, some customers would be judged more fairly and consistently than others, for whom it could behave more arbitrarily.\n",
        "\n"
      ],
      "metadata": {
        "id": "aQlbc9yKGgmA"
      }
    },
    {
      "cell_type": "markdown",
      "source": [
        "FIND AN **APPROPRIATE K** VALUE FOR CLUSTERING X"
      ],
      "metadata": {
        "id": "SnvYP6xuKlbF"
      }
    },
    {
      "cell_type": "code",
      "metadata": {
        "id": "RUcPSDGcLlVV"
      },
      "source": [
        "# Fitting multiple k-means algorithms and storing the values in an empty list\n",
        "WSS = []\n",
        "sil = []\n",
        "kmeansLIST = []\n",
        "for k in range(2,15):\n",
        "    kmeansaux = KMeans(k, random_state = 123)\n",
        "    kmeansaux.fit(X)\n",
        "\n",
        "    WSS.append(kmeansaux.inertia_) #collect data for heuristic 1\n",
        "    sil.append(silhouette_score(X, kmeansaux.labels_, metric = 'euclidean')) #collect data for heuristic 2\n",
        "    kmeansLIST.append(kmeansaux) #save each k-clustering algorithm\n",
        "\n",
        "# Converting the results into a dataframe in order to plot them\n",
        "frame = pd.DataFrame({'Cluster':range(2,15), 'WSS':WSS, 'Silhouette':sil})"
      ],
      "execution_count": 325,
      "outputs": []
    },
    {
      "cell_type": "markdown",
      "source": [
        "**ELBOW METHOD** HEURISTIC:\n",
        "\n",
        "The Within-Cluster-Sum of Squared Errors (WSS, or Inertia) for different values of k is calculated, and the k value for which first it starts to diminish is chosen (in the plot of WSS/k, this k will appear as an \"elbow\"). However, in this instance, no such clear point exists for which successive k values the WSS becomes stable or keeps declining at a noticeable slower rate."
      ],
      "metadata": {
        "id": "iipFrHBuTSgc"
      }
    },
    {
      "cell_type": "code",
      "source": [
        "plt.figure(figsize=(18,9))\n",
        "plt.plot(frame['Cluster'], frame['WSS'], marker='o')\n",
        "plt.xlabel('Number of clusters')\n",
        "plt.ylabel('Inertia')"
      ],
      "metadata": {
        "colab": {
          "base_uri": "https://localhost:8080/",
          "height": 568
        },
        "id": "xmfPo2yZSynM",
        "outputId": "3a9dd417-d565-4714-c477-90b0583661d9"
      },
      "execution_count": 326,
      "outputs": [
        {
          "output_type": "execute_result",
          "data": {
            "text/plain": [
              "Text(0, 0.5, 'Inertia')"
            ]
          },
          "metadata": {},
          "execution_count": 326
        },
        {
          "output_type": "display_data",
          "data": {
            "image/png": "[encoded data removed]",
            "text/plain": [
              "<Figure size 1296x648 with 1 Axes>"
            ]
          },
          "metadata": {
            "needs_background": "light"
          }
        }
      ]
    },
    {
      "cell_type": "markdown",
      "source": [
        "**SILHOUETTE METHOD** HEURISTIC:\n",
        "\n",
        "Another way of determining the optimal number of clusters required to segment the observations in a sensible manner is to make use of the Silhouette Method heuristic. It consists in measuring how similar a point is to its own cluster compared against all other clusters, and a global maximum for all points, for a certain k, is to be desired."
      ],
      "metadata": {
        "id": "nHHwxsZZTxTc"
      }
    },
    {
      "cell_type": "code",
      "source": [
        "plt.figure(figsize=(18,9))\n",
        "plt.plot(frame['Cluster'], frame['Silhouette'], marker='o')\n",
        "plt.xlabel('Number of clusters')\n",
        "plt.ylabel('Silhouette Score')"
      ],
      "metadata": {
        "colab": {
          "base_uri": "https://localhost:8080/",
          "height": 568
        },
        "id": "A7Gr32CiSzmc",
        "outputId": "f66937df-c74e-4744-b9a8-1164b762a70d"
      },
      "execution_count": 327,
      "outputs": [
        {
          "output_type": "execute_result",
          "data": {
            "text/plain": [
              "Text(0, 0.5, 'Silhouette Score')"
            ]
          },
          "metadata": {},
          "execution_count": 327
        },
        {
          "output_type": "display_data",
          "data": {
            "image/png": "[encoded data removed]",
            "text/plain": [
              "<Figure size 1296x648 with 1 Axes>"
            ]
          },
          "metadata": {
            "needs_background": "light"
          }
        }
      ]
    },
    {
      "cell_type": "markdown",
      "source": [
        "ACTUAL **CLUSTERING OF THE DATASET**"
      ],
      "metadata": {
        "id": "nqWz4GTJhVEe"
      }
    },
    {
      "cell_type": "code",
      "source": [
        "# Profiling all clients as one in k=4 groups, for such real-bank-sourced data seems unplausibly reductionist\n",
        "k=6 # 6 is the selected number of clusters, even as it is a simmilarly uncomfortable k value to settle for\n",
        "kmeansAlg = kmeansLIST[k-2]"
      ],
      "metadata": {
        "id": "qDM7bKpuJa2e"
      },
      "execution_count": 328,
      "outputs": []
    },
    {
      "cell_type": "code",
      "metadata": {
        "id": "zsed0Y06Lp5y"
      },
      "source": [
        "def provideKlusteredX(kmeans,Xtok, Ytok, c):\n",
        "  labels = kmeans.predict(Xtok)\n",
        "  nk = kmeans.n_clusters\n",
        "  labelslist = labels.tolist()\n",
        "  print(len(labelslist))\n",
        "  occurences=[0]*nk\n",
        "  clustered_X=[]\n",
        "  clustered_Y=[]\n",
        "\n",
        "  for i in range(nk):\n",
        "    clustered_X.append([])\n",
        "    clustered_Y.append([])\n",
        "\n",
        "  for i in range(len(labelslist)):\n",
        "    clustered_X[labelslist[i]].append(Xtok[i])\n",
        "    clustered_Y[labelslist[i]].append(Ytok[i])\n",
        "\n",
        "  for i in range(nk):\n",
        "    occurences[i]=labelslist.count(i)\n",
        "  colorlist = [\"tab:purple\",\"tab:blue\",\"tab:cyan\"]\n",
        "  plt.bar(range(nk),occurences,color=colorlist[c])\n",
        "  plt.xlabel(\"k clusters\")\n",
        "  plt.ylabel(\"n Applications belonging in each cluster\")\n",
        "  #print(occurences)\n",
        "  return clustered_X,clustered_Y"
      ],
      "execution_count": 329,
      "outputs": []
    },
    {
      "cell_type": "code",
      "source": [
        "clustered_totalX,clustered_totalY = provideKlusteredX(kmeansAlg, X, y, 0) # The total X data is clustered and visualized in 6 groups"
      ],
      "metadata": {
        "colab": {
          "base_uri": "https://localhost:8080/",
          "height": 296
        },
        "id": "cAdv98ViVfuN",
        "outputId": "9d410f81-79ec-46d4-e2b1-9812b30f6171"
      },
      "execution_count": 330,
      "outputs": [
        {
          "output_type": "stream",
          "name": "stdout",
          "text": [
            "653\n"
          ]
        },
        {
          "output_type": "display_data",
          "data": {
            "image/png": "[encoded data removed]",
            "text/plain": [
              "<Figure size 432x288 with 1 Axes>"
            ]
          },
          "metadata": {
            "needs_background": "light"
          }
        }
      ]
    },
    {
      "cell_type": "code",
      "source": [
        "clustered_trainX,clustered_trainY = provideKlusteredX(kmeansAlg, X_train, y_train, 1) # X_train data is clustered to confirm it was a representative sample of X"
      ],
      "metadata": {
        "colab": {
          "base_uri": "https://localhost:8080/",
          "height": 296
        },
        "id": "BByyAn0Ea1SH",
        "outputId": "23365f00-12cd-43a9-d722-8f2396cae6ba"
      },
      "execution_count": 331,
      "outputs": [
        {
          "output_type": "stream",
          "name": "stdout",
          "text": [
            "437\n"
          ]
        },
        {
          "output_type": "display_data",
          "data": {
            "image/png": "[encoded data removed]",
            "text/plain": [
              "<Figure size 432x288 with 1 Axes>"
            ]
          },
          "metadata": {
            "needs_background": "light"
          }
        }
      ]
    },
    {
      "cell_type": "code",
      "source": [
        "clustered_testX,clustered_testY = provideKlusteredX(kmeansAlg, X_test, y_test, 2) # X_test data is clustered to confirm it is a representative sample of X"
      ],
      "metadata": {
        "colab": {
          "base_uri": "https://localhost:8080/",
          "height": 296
        },
        "id": "W7PfiIz2NbTH",
        "outputId": "da2d02c3-5cd8-482c-849c-3ffbe9e12dc6"
      },
      "execution_count": 332,
      "outputs": [
        {
          "output_type": "stream",
          "name": "stdout",
          "text": [
            "216\n"
          ]
        },
        {
          "output_type": "display_data",
          "data": {
            "image/png": "[encoded data removed]",
            "text/plain": [
              "<Figure size 432x288 with 1 Axes>"
            ]
          },
          "metadata": {
            "needs_background": "light"
          }
        }
      ]
    },
    {
      "cell_type": "markdown",
      "source": [
        "COMPUTED CLUSTER CENTERS vs COMPUTED RELEVANT FACTORS"
      ],
      "metadata": {
        "id": "3QNOR3R4hgH8"
      }
    },
    {
      "cell_type": "code",
      "metadata": {
        "colab": {
          "base_uri": "https://localhost:8080/",
          "height": 694
        },
        "id": "GrG8HTMdWuSQ",
        "outputId": "e37587cf-0132-4033-fb21-d81a3cafa69f"
      },
      "source": [
        "# Show coefficents of the trained model\n",
        "plt.imshow(logreg.coef_, interpolation='nearest')\n",
        "plt.show()\n",
        "print(pd.DataFrame(logreg.coef_).round(2))\n",
        "\n",
        "# Show cluster centers (NOT NECESSARILY REAL DATA POINTS)\n",
        "kcenters = kmeansAlg.cluster_centers_ \n",
        "plt.imshow(kcenters, interpolation='nearest')\n",
        "plt.show()\n",
        "\n",
        "# Show actual, real data points closest to each center\n",
        "realclosest = [None]*k\n",
        "for c in range(k):\n",
        "  mind = np.sqrt(np.sum(np.square(clustered_totalX[c][0] - kcenters[c])))\n",
        "  realclosest[c] = clustered_totalX[c][0]\n",
        "  for p in clustered_totalX[c]:\n",
        "    if (np.sqrt(np.sum(np.square(p - kcenters[c]))) < mind):\n",
        "      realclosest[c] = p\n",
        "plt.imshow(realclosest, interpolation='nearest')\n",
        "plt.show()\n",
        "\n",
        "display(pd.DataFrame(realclosest))"
      ],
      "execution_count": 333,
      "outputs": [
        {
          "output_type": "display_data",
          "data": {
            "image/png": "[encoded data removed]",
            "text/plain": [
              "<Figure size 432x288 with 1 Axes>"
            ]
          },
          "metadata": {
            "needs_background": "light"
          }
        },
        {
          "output_type": "stream",
          "name": "stdout",
          "text": [
            "     0     1     2     3     4     5   ...    9     10    11    12   13    14\n",
            "0 -0.01 -0.14 -0.16 -0.14 -0.14  0.24  ...  0.11  0.64 -0.07  0.03 -0.3  1.61\n",
            "\n",
            "[1 rows x 15 columns]\n"
          ]
        },
        {
          "output_type": "display_data",
          "data": {
            "image/png": "[encoded data removed]",
            "text/plain": [
              "<Figure size 432x288 with 1 Axes>"
            ]
          },
          "metadata": {
            "needs_background": "light"
          }
        },
        {
          "output_type": "display_data",
          "data": {
            "image/png": "[encoded data removed]",
            "text/plain": [
              "<Figure size 432x288 with 1 Axes>"
            ]
          },
          "metadata": {
            "needs_background": "light"
          }
        },
        {
          "output_type": "display_data",
          "data": {
            "text/html": [
              "\n",
              "  <div id=\"df-28023218-9721-42ef-af78-48ccf4d09ba3\">\n",
              "    <div class=\"colab-df-container\">\n",
              "      <div>\n",
              "<style scoped>\n",
              "    .dataframe tbody tr th:only-of-type {\n",
              "        vertical-align: middle;\n",
              "    }\n",
              "\n",
              "    .dataframe tbody tr th {\n",
              "        vertical-align: top;\n",
              "    }\n",
              "\n",
              "    .dataframe thead th {\n",
              "        text-align: right;\n",
              "    }\n",
              "</style>\n",
              "<table border=\"1\" class=\"dataframe\">\n",
              "  <thead>\n",
              "    <tr style=\"text-align: right;\">\n",
              "      <th></th>\n",
              "      <th>0</th>\n",
              "      <th>1</th>\n",
              "      <th>2</th>\n",
              "      <th>3</th>\n",
              "      <th>4</th>\n",
              "      <th>5</th>\n",
              "      <th>6</th>\n",
              "      <th>7</th>\n",
              "      <th>8</th>\n",
              "      <th>9</th>\n",
              "      <th>10</th>\n",
              "      <th>11</th>\n",
              "      <th>12</th>\n",
              "      <th>13</th>\n",
              "      <th>14</th>\n",
              "    </tr>\n",
              "  </thead>\n",
              "  <tbody>\n",
              "    <tr>\n",
              "      <th>0</th>\n",
              "      <td>0.671648</td>\n",
              "      <td>-1.359758</td>\n",
              "      <td>-0.920630</td>\n",
              "      <td>-0.536873</td>\n",
              "      <td>-0.554357</td>\n",
              "      <td>-1.344843</td>\n",
              "      <td>0.768656</td>\n",
              "      <td>-0.654378</td>\n",
              "      <td>-1.071460</td>\n",
              "      <td>-0.885524</td>\n",
              "      <td>-0.504019</td>\n",
              "      <td>-0.927577</td>\n",
              "      <td>-0.301777</td>\n",
              "      <td>0.855789</td>\n",
              "      <td>-0.050247</td>\n",
              "    </tr>\n",
              "    <tr>\n",
              "      <th>1</th>\n",
              "      <td>0.671648</td>\n",
              "      <td>0.867701</td>\n",
              "      <td>0.233011</td>\n",
              "      <td>-0.536873</td>\n",
              "      <td>-0.554357</td>\n",
              "      <td>0.751614</td>\n",
              "      <td>0.768656</td>\n",
              "      <td>-0.283297</td>\n",
              "      <td>0.933306</td>\n",
              "      <td>1.129275</td>\n",
              "      <td>0.503093</td>\n",
              "      <td>1.078078</td>\n",
              "      <td>-0.301777</td>\n",
              "      <td>-0.509723</td>\n",
              "      <td>0.015857</td>\n",
              "    </tr>\n",
              "    <tr>\n",
              "      <th>2</th>\n",
              "      <td>0.671648</td>\n",
              "      <td>0.999373</td>\n",
              "      <td>-0.306483</td>\n",
              "      <td>-0.536873</td>\n",
              "      <td>-0.554357</td>\n",
              "      <td>0.751614</td>\n",
              "      <td>0.768656</td>\n",
              "      <td>0.372774</td>\n",
              "      <td>-1.071460</td>\n",
              "      <td>-0.885524</td>\n",
              "      <td>-0.504019</td>\n",
              "      <td>1.078078</td>\n",
              "      <td>3.347492</td>\n",
              "      <td>1.572122</td>\n",
              "      <td>-0.193125</td>\n",
              "    </tr>\n",
              "    <tr>\n",
              "      <th>3</th>\n",
              "      <td>0.671648</td>\n",
              "      <td>-1.019605</td>\n",
              "      <td>1.046233</td>\n",
              "      <td>1.800314</td>\n",
              "      <td>1.811624</td>\n",
              "      <td>-0.413084</td>\n",
              "      <td>-0.836244</td>\n",
              "      <td>-0.295171</td>\n",
              "      <td>-1.071460</td>\n",
              "      <td>-0.885524</td>\n",
              "      <td>-0.504019</td>\n",
              "      <td>-0.927577</td>\n",
              "      <td>-0.301777</td>\n",
              "      <td>0.743861</td>\n",
              "      <td>-0.193125</td>\n",
              "    </tr>\n",
              "    <tr>\n",
              "      <th>4</th>\n",
              "      <td>0.671648</td>\n",
              "      <td>1.624817</td>\n",
              "      <td>2.024688</td>\n",
              "      <td>-0.536873</td>\n",
              "      <td>-0.554357</td>\n",
              "      <td>-1.111903</td>\n",
              "      <td>0.768656</td>\n",
              "      <td>1.857098</td>\n",
              "      <td>0.933306</td>\n",
              "      <td>1.129275</td>\n",
              "      <td>1.308783</td>\n",
              "      <td>-0.927577</td>\n",
              "      <td>-0.301777</td>\n",
              "      <td>-1.248442</td>\n",
              "      <td>-0.193125</td>\n",
              "    </tr>\n",
              "    <tr>\n",
              "      <th>5</th>\n",
              "      <td>0.671648</td>\n",
              "      <td>-1.403649</td>\n",
              "      <td>3.418215</td>\n",
              "      <td>-2.874059</td>\n",
              "      <td>0.628634</td>\n",
              "      <td>-0.180145</td>\n",
              "      <td>0.367431</td>\n",
              "      <td>-0.666252</td>\n",
              "      <td>-1.071460</td>\n",
              "      <td>-0.885524</td>\n",
              "      <td>-0.504019</td>\n",
              "      <td>1.078078</td>\n",
              "      <td>1.522857</td>\n",
              "      <td>1.818362</td>\n",
              "      <td>18.857199</td>\n",
              "    </tr>\n",
              "  </tbody>\n",
              "</table>\n",
              "</div>\n",
              "      <button class=\"colab-df-convert\" onclick=\"convertToInteractive('df-28023218-9721-42ef-af78-48ccf4d09ba3')\"\n",
              "              title=\"Convert this dataframe to an interactive table.\"\n",
              "              style=\"display:none;\">\n",
              "        \n",
              "  <svg xmlns=\"http://www.w3.org/2000/svg\" height=\"24px\"viewBox=\"0 0 24 24\"\n",
              "       width=\"24px\">\n",
              "    <path d=\"M0 0h24v24H0V0z\" fill=\"none\"/>\n",
              "    <path d=\"M18.56 5.44l.94 2.06.94-2.06 2.06-.94-2.06-.94-.94-2.06-.94 2.06-2.06.94zm-11 1L8.5 8.5l.94-2.06 2.06-.94-2.06-.94L8.5 2.5l-.94 2.06-2.06.94zm10 10l.94 2.06.94-2.06 2.06-.94-2.06-.94-.94-2.06-.94 2.06-2.06.94z\"/><path d=\"M17.41 7.96l-1.37-1.37c-.4-.4-.92-.59-1.43-.59-.52 0-1.04.2-1.43.59L10.3 9.45l-7.72 7.72c-.78.78-.78 2.05 0 2.83L4 21.41c.39.39.9.59 1.41.59.51 0 1.02-.2 1.41-.59l7.78-7.78 2.81-2.81c.8-.78.8-2.07 0-2.86zM5.41 20L4 18.59l7.72-7.72 1.47 1.35L5.41 20z\"/>\n",
              "  </svg>\n",
              "      </button>\n",
              "      \n",
              "  <style>\n",
              "    .colab-df-container {\n",
              "      display:flex;\n",
              "      flex-wrap:wrap;\n",
              "      gap: 12px;\n",
              "    }\n",
              "\n",
              "    .colab-df-convert {\n",
              "      background-color: #E8F0FE;\n",
              "      border: none;\n",
              "      border-radius: 50%;\n",
              "      cursor: pointer;\n",
              "      display: none;\n",
              "      fill: #1967D2;\n",
              "      height: 32px;\n",
              "      padding: 0 0 0 0;\n",
              "      width: 32px;\n",
              "    }\n",
              "\n",
              "    .colab-df-convert:hover {\n",
              "      background-color: #E2EBFA;\n",
              "      box-shadow: 0px 1px 2px rgba(60, 64, 67, 0.3), 0px 1px 3px 1px rgba(60, 64, 67, 0.15);\n",
              "      fill: #174EA6;\n",
              "    }\n",
              "\n",
              "    [theme=dark] .colab-df-convert {\n",
              "      background-color: #3B4455;\n",
              "      fill: #D2E3FC;\n",
              "    }\n",
              "\n",
              "    [theme=dark] .colab-df-convert:hover {\n",
              "      background-color: #434B5C;\n",
              "      box-shadow: 0px 1px 3px 1px rgba(0, 0, 0, 0.15);\n",
              "      filter: drop-shadow(0px 1px 2px rgba(0, 0, 0, 0.3));\n",
              "      fill: #FFFFFF;\n",
              "    }\n",
              "  </style>\n",
              "\n",
              "      <script>\n",
              "        const buttonEl =\n",
              "          document.querySelector('#df-28023218-9721-42ef-af78-48ccf4d09ba3 button.colab-df-convert');\n",
              "        buttonEl.style.display =\n",
              "          google.colab.kernel.accessAllowed ? 'block' : 'none';\n",
              "\n",
              "        async function convertToInteractive(key) {\n",
              "          const element = document.querySelector('#df-28023218-9721-42ef-af78-48ccf4d09ba3');\n",
              "          const dataTable =\n",
              "            await google.colab.kernel.invokeFunction('convertToInteractive',\n",
              "                                                     [key], {});\n",
              "          if (!dataTable) return;\n",
              "\n",
              "          const docLinkHtml = 'Like what you see? Visit the ' +\n",
              "            '<a target=\"_blank\" href=https://colab.research.google.com/notebooks/data_table.ipynb>data table notebook</a>'\n",
              "            + ' to learn more about interactive tables.';\n",
              "          element.innerHTML = '';\n",
              "          dataTable['output_type'] = 'display_data';\n",
              "          await google.colab.output.renderOutput(dataTable, element);\n",
              "          const docLink = document.createElement('div');\n",
              "          docLink.innerHTML = docLinkHtml;\n",
              "          element.appendChild(docLink);\n",
              "        }\n",
              "      </script>\n",
              "    </div>\n",
              "  </div>\n",
              "  "
            ],
            "text/plain": [
              "         0         1         2   ...        12        13         14\n",
              "0  0.671648 -1.359758 -0.920630  ... -0.301777  0.855789  -0.050247\n",
              "1  0.671648  0.867701  0.233011  ... -0.301777 -0.509723   0.015857\n",
              "2  0.671648  0.999373 -0.306483  ...  3.347492  1.572122  -0.193125\n",
              "3  0.671648 -1.019605  1.046233  ... -0.301777  0.743861  -0.193125\n",
              "4  0.671648  1.624817  2.024688  ... -0.301777 -1.248442  -0.193125\n",
              "5  0.671648 -1.403649  3.418215  ...  1.522857  1.818362  18.857199\n",
              "\n",
              "[6 rows x 15 columns]"
            ]
          },
          "metadata": {}
        }
      ]
    },
    {
      "cell_type": "markdown",
      "source": [
        "**STATS** ON CLUSTERED **PRESENCE RATE AND CREDIT APPROVALS**"
      ],
      "metadata": {
        "id": "W-WlY6S5huWj"
      }
    },
    {
      "cell_type": "code",
      "metadata": {
        "id": "TRl-hPVpyikE"
      },
      "source": [
        "def StatsOnKlustered(totalX,clusteredX, clusteredY):\n",
        "  TOTALyes = 0\n",
        "  for i in range(len(clusteredY)):\n",
        "    TOTALyes += clusteredY[i].count(1.0)\n",
        "  TOTALno = len(totalX)-TOTALyes\n",
        "  presencerate = [] # Instances of this type divided by total instances (in totalX)\n",
        "  approvalrate = [] # Approval rate for this type\n",
        "  approvalcontributionrate = [] # Approval for this type divided by the total n of approvals (in totalX)\n",
        "  for i in range(len(clusteredY)):\n",
        "    yes = clusteredY[i].count(1.0)\n",
        "    no = clusteredY[i].count(0.0)\n",
        "    instances = len(clusteredY[i])\n",
        "\n",
        "    #print(\"Approved:\",yes,\"// Denied: \",no)\n",
        "    presencerate.append(100*instances/len(totalX))\n",
        "    approvalrate.append(100*yes/max(1,instances))\n",
        "    approvalcontributionrate.append(100*yes/TOTALyes)\n",
        "    \n",
        "    print(\"Instance proportion:\",presencerate[i],\"// Approval rate:\",approvalrate[i],\"// Approval contribution:\",approvalcontributionrate[i])\n",
        "    print()\n",
        "  return presencerate,approvalrate,approvalcontributionrate"
      ],
      "execution_count": 334,
      "outputs": []
    },
    {
      "cell_type": "code",
      "source": [
        "presencerateTOTAL,approvalrateTOTAL,approvalcontributionrateTOTAL = StatsOnKlustered(X,clustered_totalX,clustered_totalY) # we check again that approval stats for X are similar than for Xtest"
      ],
      "metadata": {
        "colab": {
          "base_uri": "https://localhost:8080/"
        },
        "id": "3WKDoFPCV2_M",
        "outputId": "e3a105da-af5f-4980-ecfe-147ef71f82c5"
      },
      "execution_count": 335,
      "outputs": [
        {
          "output_type": "stream",
          "name": "stdout",
          "text": [
            "Instance proportion: 31.08728943338438 // Approval rate: 16.748768472906406 // Approval contribution: 11.486486486486486\n",
            "\n",
            "Instance proportion: 27.871362940275652 // Approval rate: 75.27472527472527 // Approval contribution: 46.28378378378378\n",
            "\n",
            "Instance proportion: 8.116385911179172 // Approval rate: 28.30188679245283 // Approval contribution: 5.0675675675675675\n",
            "\n",
            "Instance proportion: 21.28637059724349 // Approval rate: 28.776978417266186 // Approval contribution: 13.513513513513514\n",
            "\n",
            "Instance proportion: 11.485451761102603 // Approval rate: 92.0 // Approval contribution: 23.31081081081081\n",
            "\n",
            "Instance proportion: 0.15313935681470137 // Approval rate: 100.0 // Approval contribution: 0.33783783783783783\n",
            "\n"
          ]
        }
      ]
    },
    {
      "cell_type": "code",
      "source": [
        "presencerateTEST,approvalrateTEST,approvalcontributionrateTEST = StatsOnKlustered(X_test,clustered_testX,clustered_testY) # indeed, different clusters have unequal weights in the whole of applications and approvals"
      ],
      "metadata": {
        "colab": {
          "base_uri": "https://localhost:8080/"
        },
        "id": "NZVA-S5_W0nU",
        "outputId": "0f4b8c05-9018-45f5-d14a-1488893669a4"
      },
      "execution_count": 336,
      "outputs": [
        {
          "output_type": "stream",
          "name": "stdout",
          "text": [
            "Instance proportion: 27.314814814814813 // Approval rate: 20.338983050847457 // Approval contribution: 12.0\n",
            "\n",
            "Instance proportion: 25.462962962962962 // Approval rate: 76.36363636363636 // Approval contribution: 42.0\n",
            "\n",
            "Instance proportion: 10.185185185185185 // Approval rate: 22.727272727272727 // Approval contribution: 5.0\n",
            "\n",
            "Instance proportion: 24.074074074074073 // Approval rate: 26.923076923076923 // Approval contribution: 14.0\n",
            "\n",
            "Instance proportion: 12.962962962962964 // Approval rate: 96.42857142857143 // Approval contribution: 27.0\n",
            "\n",
            "Instance proportion: 0.0 // Approval rate: 0.0 // Approval contribution: 0.0\n",
            "\n"
          ]
        }
      ]
    },
    {
      "cell_type": "markdown",
      "source": [
        "**STATS** ON CLUSTERED **PREDICTED LABELS AND MODEL ACCURACY**"
      ],
      "metadata": {
        "id": "ArIW00bdiXsq"
      }
    },
    {
      "cell_type": "code",
      "metadata": {
        "id": "SnlG7gQtWs_R"
      },
      "source": [
        "def StatsOnKlusteredLogRegResults(logregAlg, totalX, clusteredX, clusteredY):\n",
        "  y_pred = logregAlg.predict(totalX)\n",
        "  TOTALyes = np.count_nonzero(y_pred == 1)\n",
        "  TOTALno = np.count_nonzero(y_pred == 0)\n",
        "  #NOW ALSO COMPUTE ACCURACY OF THE MODEL FOR DIFFERENT CLUSTERS AND **PREDICTED** APPROVAL RATES\n",
        "  presencerate = [] # Predicted instances of this type divided by total instances (in totalX)\n",
        "  approvalrate = [] # Predicted approval rate for this type\n",
        "  approvalcontributionrate = [] # Predicted approval for this type over the total n of predicted approvals (in totalX)\n",
        "  accuracy = [] # logreg model accuracy per kluster\n",
        "  for i in range(len(clusteredX)):\n",
        "    if (len(clusteredX[i])>0):\n",
        "      y_pred = logregAlg.predict(clusteredX[i])\n",
        "      print(\"Accuracy of logistic regression classifier: \", logregAlg.score(clusteredX[i], clusteredY[i]))\n",
        "      accuracy.append(100*logregAlg.score(clusteredX[i], clusteredY[i]))\n",
        "    else:\n",
        "      y_pred = []\n",
        "      accuracy.append(0)\n",
        "\n",
        "    yes = np.count_nonzero(y_pred == 1)\n",
        "    no = np.count_nonzero(y_pred == 0)\n",
        "    instances = len(clusteredY[i])\n",
        "\n",
        "    presencerate.append(100*instances/len(totalX))\n",
        "    approvalrate.append(100*yes/ max(1,instances))\n",
        "    approvalcontributionrate.append(100*yes/TOTALyes)\n",
        "\n",
        "    print(\"Instance proportion:\",presencerate[i],\"// Approval rate:\",approvalrate[i],\"// Approval contribution:\",approvalcontributionrate[i])\n",
        "    print()\n",
        "  return presencerate,approvalrate,approvalcontributionrate, accuracy"
      ],
      "execution_count": 337,
      "outputs": []
    },
    {
      "cell_type": "code",
      "source": [
        "presencerateTESTpred,approvalrateTESTpred,approvalcontributionrateTESTpred, accuracyperK = StatsOnKlusteredLogRegResults(logreg,X_test,clustered_testX,clustered_testY) # Here the logreg model is used"
      ],
      "metadata": {
        "colab": {
          "base_uri": "https://localhost:8080/"
        },
        "id": "AfOIUwk9b6rT",
        "outputId": "d0cd1fd9-e0dc-4d5f-ea30-a0a07f922e52"
      },
      "execution_count": 338,
      "outputs": [
        {
          "output_type": "stream",
          "name": "stdout",
          "text": [
            "Accuracy of logistic regression classifier:  0.864406779661017\n",
            "Instance proportion: 27.314814814814813 // Approval rate: 27.11864406779661 // Approval contribution: 14.035087719298245\n",
            "\n",
            "Accuracy of logistic regression classifier:  0.9454545454545454\n",
            "Instance proportion: 25.462962962962962 // Approval rate: 81.81818181818181 // Approval contribution: 39.473684210526315\n",
            "\n",
            "Accuracy of logistic regression classifier:  0.6818181818181818\n",
            "Instance proportion: 10.185185185185185 // Approval rate: 27.272727272727273 // Approval contribution: 5.2631578947368425\n",
            "\n",
            "Accuracy of logistic regression classifier:  0.8269230769230769\n",
            "Instance proportion: 24.074074074074073 // Approval rate: 36.53846153846154 // Approval contribution: 16.666666666666668\n",
            "\n",
            "Accuracy of logistic regression classifier:  0.9642857142857143\n",
            "Instance proportion: 12.962962962962964 // Approval rate: 100.0 // Approval contribution: 24.56140350877193\n",
            "\n",
            "Instance proportion: 0.0 // Approval rate: 0.0 // Approval contribution: 0.0\n",
            "\n"
          ]
        }
      ]
    },
    {
      "cell_type": "markdown",
      "source": [
        "# INSIGHT VISUALIZATION FOR **TRUE TEST DATA**"
      ],
      "metadata": {
        "id": "fhN9_pUYiSem"
      }
    },
    {
      "cell_type": "code",
      "metadata": {
        "colab": {
          "base_uri": "https://localhost:8080/",
          "height": 267
        },
        "id": "SiO9d38LVtPn",
        "outputId": "46bdeb76-17eb-4ec5-8213-6e0a912a8627"
      },
      "source": [
        "df = pd.DataFrame({'presence': presencerateTEST,\n",
        "                   'approval rate': approvalrateTEST,\n",
        "                   'contribution': approvalcontributionrateTEST}, index=range(k))\n",
        "ax = df.plot.bar(rot=0)"
      ],
      "execution_count": 339,
      "outputs": [
        {
          "output_type": "display_data",
          "data": {
            "image/png": "[encoded data removed]",
            "text/plain": [
              "<Figure size 432x288 with 1 Axes>"
            ]
          },
          "metadata": {
            "needs_background": "light"
          }
        }
      ]
    },
    {
      "cell_type": "markdown",
      "source": [
        "# INSIGHT VISUALIZATION FOR **PREDICTED Y**"
      ],
      "metadata": {
        "id": "fc_47FtLiM6M"
      }
    },
    {
      "cell_type": "code",
      "source": [
        "df = pd.DataFrame({'presence': presencerateTESTpred,\n",
        "                   'approval rate': approvalrateTESTpred,\n",
        "                   'contribution': approvalcontributionrateTESTpred,\n",
        "                   'accuracy': accuracyperK}, index=range(k))\n",
        "ax = df.plot.bar(rot=0)"
      ],
      "metadata": {
        "colab": {
          "base_uri": "https://localhost:8080/",
          "height": 265
        },
        "id": "XhHCr3EMc2R7",
        "outputId": "c8b8ad5e-cfa5-4dfa-ddbd-d64c4616b02a"
      },
      "execution_count": 340,
      "outputs": [
        {
          "output_type": "display_data",
          "data": {
            "image/png": "[encoded data removed]",
            "text/plain": [
              "<Figure size 432x288 with 1 Axes>"
            ]
          },
          "metadata": {
            "needs_background": "light"
          }
        }
      ]
    },
    {
      "cell_type": "markdown",
      "source": [
        "#5. Discussion of the findings, and shortcomings\n",
        "\n",
        "From the clustering of the data in 6 segments, it can be stated that the partition of the input between train/test sets it's been done mostly correctly since the same clustering algorithm, learned from the main body of data, simmilarly partitions the two sets and finds an approximately proportional amount of instances of each class in both of them.\n",
        "\n",
        "In that sense, though, it is notable that no credit applications belonging to the fifth cluster class are found in the test set, as they all fell inside the training one. This can be attributed to the fact that it is a very minoritary fraction of the dataset (0.15% of the total).\n",
        "\n",
        "Such outlier behaviour could have been pruned from the data in the earlier pre-processing steps, and dealt with separaretly, or disregarded altogether. In an analogous manner, another additional step that could have been rellevant to perform during this preliminar data preparation stage, could have been to undergo some feature-selection process and to consider eliminating some of the less determinant variables from the data in order to reduce the multidimensionality of the problem to some extent, and simplify all future procedures.\n",
        "\n",
        "Nevertheless, when analysing the actual support that's been worked on, and the stats regarding approval and accuracy rates showcased, two things seem important to point out. First, we can indeed confirm that for different \"profiles\" of clients the model seems to perform less consistently than for others, with some clusters being predicted with 98% accuracy and some other with 68% (which, in a binary classification problem, is not very remarkable), when the overall efficiency is supposed to be 87%. This, then, doesn't tell us about bias being present in the database directly, but in the model we trained.\n",
        "\n",
        "Secondly, the fact that for some clusters the approval rate isn't neither clearly approaching 0 nor 1 signifies that the current clustering being done is not good enough to categorize the different types of applications into truly homogenous groups that can be dealt with uniformly. That, or that perhaps \"mostly\" homogenous groups are being found and formed, except for some difference in one or two of the features that turn to make all the difference at the end. \n",
        "\n",
        "To more closely scrutinize this effect, the cluster number 3, for which a 27% true approval rate (37% predicted) was computed, was then clustered itself into 5 additional clusters to try and see more clearly defined factions inside it with more extreme approval/denied rates. Indeed, inspecting those clusters showcases how parameters 8 and 14, that is, \"PriorDefault\" (missed payments history) and \"Income\", are what sets apart the more accepted subclusters from the least approved ones. This can be seen in the visualizations bellow, and it's coherent with the regression's coefficents displayed above."
      ],
      "metadata": {
        "id": "Plul_JC8ctdE"
      }
    },
    {
      "cell_type": "code",
      "source": [
        "kmeans_on_three = KMeans(5, random_state=123)\n",
        "kmeans_on_three.fit(clustered_testX[3])\n",
        "clustered_3X,clustered_3Y = provideKlusteredX(kmeans_on_three, clustered_testX[3], clustered_testY[3], 0)\n",
        "presencerate3pred,approvalrate3pred,approvalcontributionrate3pred, accuracyperK3 = StatsOnKlusteredLogRegResults(logreg,clustered_testX[3],clustered_3X,clustered_3Y) # Here the logreg model is used\n",
        "df = pd.DataFrame({'presence': presencerate3pred,\n",
        "                   'approval rate': approvalrate3pred,\n",
        "                   'contribution': approvalcontributionrate3pred,\n",
        "                   'accuracy': accuracyperK3}, index=range(5))\n",
        "ax = df.plot.bar(rot=0)"
      ],
      "metadata": {
        "colab": {
          "base_uri": "https://localhost:8080/",
          "height": 805
        },
        "id": "MwHumSWM44Cm",
        "outputId": "bc76b04e-a500-4695-eb74-bcc48388e127"
      },
      "execution_count": 341,
      "outputs": [
        {
          "output_type": "stream",
          "name": "stdout",
          "text": [
            "52\n",
            "Accuracy of logistic regression classifier:  0.8333333333333334\n",
            "Instance proportion: 11.538461538461538 // Approval rate: 16.666666666666668 // Approval contribution: 5.2631578947368425\n",
            "\n",
            "Accuracy of logistic regression classifier:  0.9130434782608695\n",
            "Instance proportion: 44.23076923076923 // Approval rate: 8.695652173913043 // Approval contribution: 10.526315789473685\n",
            "\n",
            "Accuracy of logistic regression classifier:  0.5\n",
            "Instance proportion: 15.384615384615385 // Approval rate: 100.0 // Approval contribution: 42.10526315789474\n",
            "\n",
            "Accuracy of logistic regression classifier:  0.875\n",
            "Instance proportion: 15.384615384615385 // Approval rate: 25.0 // Approval contribution: 10.526315789473685\n",
            "\n",
            "Accuracy of logistic regression classifier:  0.8571428571428571\n",
            "Instance proportion: 13.461538461538462 // Approval rate: 85.71428571428571 // Approval contribution: 31.57894736842105\n",
            "\n"
          ]
        },
        {
          "output_type": "display_data",
          "data": {
            "image/png": "[encoded data removed]",
            "text/plain": [
              "<Figure size 432x288 with 1 Axes>"
            ]
          },
          "metadata": {
            "needs_background": "light"
          }
        },
        {
          "output_type": "display_data",
          "data": {
            "image/png": "[encoded data removed]",
            "text/plain": [
              "<Figure size 432x288 with 1 Axes>"
            ]
          },
          "metadata": {
            "needs_background": "light"
          }
        }
      ]
    },
    {
      "cell_type": "code",
      "source": [
        "realclosest3 = [None]*5\n",
        "for c in range(5):\n",
        "  mind = np.sqrt(np.sum(np.square(clustered_3X[c][0] - kcenters[c])))\n",
        "  realclosest3[c] = clustered_3X[c][0]\n",
        "  for p in clustered_3X[c]:\n",
        "    if (np.sqrt(np.sum(np.square(p - kcenters[c]))) < mind):\n",
        "      realclosest3[c] = p\n",
        "\n",
        "plt.imshow([realclosest[3]], interpolation='nearest') # Chosen \"representative\" real data point center of whole cluster 3\n",
        "plt.show()\n",
        "\n",
        "plt.imshow(realclosest3, interpolation='nearest')\n",
        "plt.show()\n",
        "\n",
        "display(pd.DataFrame(realclosest3))\n",
        "\n",
        "plt.imshow([realclosest3[0],realclosest3[2]], interpolation='nearest') # 17% vs 86% subclusters\n",
        "plt.show()\n",
        "\n",
        "plt.imshow([realclosest3[4],realclosest3[2]], interpolation='nearest')  # 86% vs 100% subclusters\n",
        "plt.show()"
      ],
      "metadata": {
        "colab": {
          "base_uri": "https://localhost:8080/",
          "height": 558
        },
        "id": "ua3sy5qm6aoJ",
        "outputId": "987145b2-a283-4913-dd0a-c93a626b84f9"
      },
      "execution_count": 342,
      "outputs": [
        {
          "output_type": "display_data",
          "data": {
            "image/png": "[encoded data removed]",
            "text/plain": [
              "<Figure size 432x288 with 1 Axes>"
            ]
          },
          "metadata": {
            "needs_background": "light"
          }
        },
        {
          "output_type": "display_data",
          "data": {
            "image/png": "[encoded data removed]",
            "text/plain": [
              "<Figure size 432x288 with 1 Axes>"
            ]
          },
          "metadata": {
            "needs_background": "light"
          }
        },
        {
          "output_type": "display_data",
          "data": {
            "text/html": [
              "\n",
              "  <div id=\"df-7545521e-3847-45a8-9f17-07ea721fcf90\">\n",
              "    <div class=\"colab-df-container\">\n",
              "      <div>\n",
              "<style scoped>\n",
              "    .dataframe tbody tr th:only-of-type {\n",
              "        vertical-align: middle;\n",
              "    }\n",
              "\n",
              "    .dataframe tbody tr th {\n",
              "        vertical-align: top;\n",
              "    }\n",
              "\n",
              "    .dataframe thead th {\n",
              "        text-align: right;\n",
              "    }\n",
              "</style>\n",
              "<table border=\"1\" class=\"dataframe\">\n",
              "  <thead>\n",
              "    <tr style=\"text-align: right;\">\n",
              "      <th></th>\n",
              "      <th>0</th>\n",
              "      <th>1</th>\n",
              "      <th>2</th>\n",
              "      <th>3</th>\n",
              "      <th>4</th>\n",
              "      <th>5</th>\n",
              "      <th>6</th>\n",
              "      <th>7</th>\n",
              "      <th>8</th>\n",
              "      <th>9</th>\n",
              "      <th>10</th>\n",
              "      <th>11</th>\n",
              "      <th>12</th>\n",
              "      <th>13</th>\n",
              "      <th>14</th>\n",
              "    </tr>\n",
              "  </thead>\n",
              "  <tbody>\n",
              "    <tr>\n",
              "      <th>0</th>\n",
              "      <td>0.671648</td>\n",
              "      <td>-1.217113</td>\n",
              "      <td>-0.165139</td>\n",
              "      <td>1.800314</td>\n",
              "      <td>1.811624</td>\n",
              "      <td>0.052795</td>\n",
              "      <td>0.768656</td>\n",
              "      <td>-0.369387</td>\n",
              "      <td>-1.071460</td>\n",
              "      <td>-0.885524</td>\n",
              "      <td>-0.504019</td>\n",
              "      <td>1.078078</td>\n",
              "      <td>-0.301777</td>\n",
              "      <td>1.281112</td>\n",
              "      <td>-0.002622</td>\n",
              "    </tr>\n",
              "    <tr>\n",
              "      <th>1</th>\n",
              "      <td>0.671648</td>\n",
              "      <td>0.231284</td>\n",
              "      <td>-0.165139</td>\n",
              "      <td>1.800314</td>\n",
              "      <td>1.811624</td>\n",
              "      <td>-0.878964</td>\n",
              "      <td>0.768656</td>\n",
              "      <td>-0.220955</td>\n",
              "      <td>-1.071460</td>\n",
              "      <td>-0.885524</td>\n",
              "      <td>-0.504019</td>\n",
              "      <td>1.078078</td>\n",
              "      <td>-0.301777</td>\n",
              "      <td>-0.420181</td>\n",
              "      <td>-0.193125</td>\n",
              "    </tr>\n",
              "    <tr>\n",
              "      <th>2</th>\n",
              "      <td>0.671648</td>\n",
              "      <td>-1.162250</td>\n",
              "      <td>1.029312</td>\n",
              "      <td>1.800314</td>\n",
              "      <td>1.811624</td>\n",
              "      <td>0.518674</td>\n",
              "      <td>-0.836244</td>\n",
              "      <td>-0.418370</td>\n",
              "      <td>0.933306</td>\n",
              "      <td>-0.885524</td>\n",
              "      <td>-0.504019</td>\n",
              "      <td>1.078078</td>\n",
              "      <td>-0.301777</td>\n",
              "      <td>-0.263483</td>\n",
              "      <td>-0.193125</td>\n",
              "    </tr>\n",
              "    <tr>\n",
              "      <th>3</th>\n",
              "      <td>-1.488875</td>\n",
              "      <td>-0.064979</td>\n",
              "      <td>-0.745444</td>\n",
              "      <td>1.800314</td>\n",
              "      <td>1.811624</td>\n",
              "      <td>1.683372</td>\n",
              "      <td>0.768656</td>\n",
              "      <td>-0.369387</td>\n",
              "      <td>-1.071460</td>\n",
              "      <td>-0.885524</td>\n",
              "      <td>-0.504019</td>\n",
              "      <td>-0.927577</td>\n",
              "      <td>-0.301777</td>\n",
              "      <td>0.855789</td>\n",
              "      <td>-0.190648</td>\n",
              "    </tr>\n",
              "    <tr>\n",
              "      <th>4</th>\n",
              "      <td>0.671648</td>\n",
              "      <td>-0.361242</td>\n",
              "      <td>-0.421946</td>\n",
              "      <td>1.800314</td>\n",
              "      <td>1.811624</td>\n",
              "      <td>-0.878964</td>\n",
              "      <td>0.768656</td>\n",
              "      <td>0.892288</td>\n",
              "      <td>0.933306</td>\n",
              "      <td>1.129275</td>\n",
              "      <td>-0.302596</td>\n",
              "      <td>-0.927577</td>\n",
              "      <td>-0.301777</td>\n",
              "      <td>0.363309</td>\n",
              "      <td>-0.193125</td>\n",
              "    </tr>\n",
              "  </tbody>\n",
              "</table>\n",
              "</div>\n",
              "      <button class=\"colab-df-convert\" onclick=\"convertToInteractive('df-7545521e-3847-45a8-9f17-07ea721fcf90')\"\n",
              "              title=\"Convert this dataframe to an interactive table.\"\n",
              "              style=\"display:none;\">\n",
              "        \n",
              "  <svg xmlns=\"http://www.w3.org/2000/svg\" height=\"24px\"viewBox=\"0 0 24 24\"\n",
              "       width=\"24px\">\n",
              "    <path d=\"M0 0h24v24H0V0z\" fill=\"none\"/>\n",
              "    <path d=\"M18.56 5.44l.94 2.06.94-2.06 2.06-.94-2.06-.94-.94-2.06-.94 2.06-2.06.94zm-11 1L8.5 8.5l.94-2.06 2.06-.94-2.06-.94L8.5 2.5l-.94 2.06-2.06.94zm10 10l.94 2.06.94-2.06 2.06-.94-2.06-.94-.94-2.06-.94 2.06-2.06.94z\"/><path d=\"M17.41 7.96l-1.37-1.37c-.4-.4-.92-.59-1.43-.59-.52 0-1.04.2-1.43.59L10.3 9.45l-7.72 7.72c-.78.78-.78 2.05 0 2.83L4 21.41c.39.39.9.59 1.41.59.51 0 1.02-.2 1.41-.59l7.78-7.78 2.81-2.81c.8-.78.8-2.07 0-2.86zM5.41 20L4 18.59l7.72-7.72 1.47 1.35L5.41 20z\"/>\n",
              "  </svg>\n",
              "      </button>\n",
              "      \n",
              "  <style>\n",
              "    .colab-df-container {\n",
              "      display:flex;\n",
              "      flex-wrap:wrap;\n",
              "      gap: 12px;\n",
              "    }\n",
              "\n",
              "    .colab-df-convert {\n",
              "      background-color: #E8F0FE;\n",
              "      border: none;\n",
              "      border-radius: 50%;\n",
              "      cursor: pointer;\n",
              "      display: none;\n",
              "      fill: #1967D2;\n",
              "      height: 32px;\n",
              "      padding: 0 0 0 0;\n",
              "      width: 32px;\n",
              "    }\n",
              "\n",
              "    .colab-df-convert:hover {\n",
              "      background-color: #E2EBFA;\n",
              "      box-shadow: 0px 1px 2px rgba(60, 64, 67, 0.3), 0px 1px 3px 1px rgba(60, 64, 67, 0.15);\n",
              "      fill: #174EA6;\n",
              "    }\n",
              "\n",
              "    [theme=dark] .colab-df-convert {\n",
              "      background-color: #3B4455;\n",
              "      fill: #D2E3FC;\n",
              "    }\n",
              "\n",
              "    [theme=dark] .colab-df-convert:hover {\n",
              "      background-color: #434B5C;\n",
              "      box-shadow: 0px 1px 3px 1px rgba(0, 0, 0, 0.15);\n",
              "      filter: drop-shadow(0px 1px 2px rgba(0, 0, 0, 0.3));\n",
              "      fill: #FFFFFF;\n",
              "    }\n",
              "  </style>\n",
              "\n",
              "      <script>\n",
              "        const buttonEl =\n",
              "          document.querySelector('#df-7545521e-3847-45a8-9f17-07ea721fcf90 button.colab-df-convert');\n",
              "        buttonEl.style.display =\n",
              "          google.colab.kernel.accessAllowed ? 'block' : 'none';\n",
              "\n",
              "        async function convertToInteractive(key) {\n",
              "          const element = document.querySelector('#df-7545521e-3847-45a8-9f17-07ea721fcf90');\n",
              "          const dataTable =\n",
              "            await google.colab.kernel.invokeFunction('convertToInteractive',\n",
              "                                                     [key], {});\n",
              "          if (!dataTable) return;\n",
              "\n",
              "          const docLinkHtml = 'Like what you see? Visit the ' +\n",
              "            '<a target=\"_blank\" href=https://colab.research.google.com/notebooks/data_table.ipynb>data table notebook</a>'\n",
              "            + ' to learn more about interactive tables.';\n",
              "          element.innerHTML = '';\n",
              "          dataTable['output_type'] = 'display_data';\n",
              "          await google.colab.output.renderOutput(dataTable, element);\n",
              "          const docLink = document.createElement('div');\n",
              "          docLink.innerHTML = docLinkHtml;\n",
              "          element.appendChild(docLink);\n",
              "        }\n",
              "      </script>\n",
              "    </div>\n",
              "  </div>\n",
              "  "
            ],
            "text/plain": [
              "         0         1         2   ...        12        13        14\n",
              "0  0.671648 -1.217113 -0.165139  ... -0.301777  1.281112 -0.002622\n",
              "1  0.671648  0.231284 -0.165139  ... -0.301777 -0.420181 -0.193125\n",
              "2  0.671648 -1.162250  1.029312  ... -0.301777 -0.263483 -0.193125\n",
              "3 -1.488875 -0.064979 -0.745444  ... -0.301777  0.855789 -0.190648\n",
              "4  0.671648 -0.361242 -0.421946  ... -0.301777  0.363309 -0.193125\n",
              "\n",
              "[5 rows x 15 columns]"
            ]
          },
          "metadata": {}
        },
        {
          "output_type": "display_data",
          "data": {
            "image/png": "[encoded data removed]",
            "text/plain": [
              "<Figure size 432x288 with 1 Axes>"
            ]
          },
          "metadata": {
            "needs_background": "light"
          }
        },
        {
          "output_type": "display_data",
          "data": {
            "image/png": "[encoded data removed]",
            "text/plain": [
              "<Figure size 432x288 with 1 Axes>"
            ]
          },
          "metadata": {
            "needs_background": "light"
          }
        }
      ]
    },
    {
      "cell_type": "markdown",
      "source": [
        "Moving forward, about bias in the dataset, it can be stated that by looking at its covariance matrix for any other proxy variables or undirect indicators that could be inadvertedly deeply related to this \"PriorDefault\" and \"Income\" parameters, no strong evidence of such relations is found.\n",
        "\n",
        "Even if they were detected, possible flaws in that regard could still point again to errors in the treatment of the data towards building the model (possible poor encoding technique choice, lack of feature-selection process, inadequate combination of scaling and econding, etc) and not necessarily to biased source data (prejudice-based decision-making by the real bank).\n",
        "\n",
        "Being on alert for bias in both the datasets as well as the models learned from them is equally rellevant, and responsability for it can fall on any or multiple of the steps of the whole process from the collection of the data, to the final deployment of any given product, and its study must continue even after and during that, to reduce possible faults being encountered after-the-fact.\n",
        "\n",
        "Although no definite answers have been reached by using the proposed tools and methods so far, some interesting questions and caveats in their application and meaning are considered to have been raised and exposed in the course of this project.\n",
        "\n",
        "In addition to all previously mentioned changes and updates that could be explored in order to continue and improve the results of this thread of work, trying an altogheter different set of methods could also be equally enriching: different supervised predictive methods could be better adapted to the data (or sigmoid-based NN), and alternative unsupervised clustering methods be more suited for sets with such strong categorical component to their values' definition."
      ],
      "metadata": {
        "id": "555FMp0mmLrM"
      }
    },
    {
      "cell_type": "code",
      "source": [
        "pd.DataFrame(X).cov()."
      ],
      "metadata": {
        "colab": {
          "base_uri": "https://localhost:8080/",
          "height": 520
        },
        "id": "7WB2_7IGwRZa",
        "outputId": "7bfa6b11-f0f3-4178-be68-474f138b80a9"
      },
      "execution_count": 343,
      "outputs": [
        {
          "output_type": "execute_result",
          "data": {
            "text/html": [
              "\n",
              "  <div id=\"df-f8c89417-a70e-453e-a5d5-ae6898a20229\">\n",
              "    <div class=\"colab-df-container\">\n",
              "      <div>\n",
              "<style scoped>\n",
              "    .dataframe tbody tr th:only-of-type {\n",
              "        vertical-align: middle;\n",
              "    }\n",
              "\n",
              "    .dataframe tbody tr th {\n",
              "        vertical-align: top;\n",
              "    }\n",
              "\n",
              "    .dataframe thead th {\n",
              "        text-align: right;\n",
              "    }\n",
              "</style>\n",
              "<table border=\"1\" class=\"dataframe\">\n",
              "  <thead>\n",
              "    <tr style=\"text-align: right;\">\n",
              "      <th></th>\n",
              "      <th>0</th>\n",
              "      <th>1</th>\n",
              "      <th>2</th>\n",
              "      <th>3</th>\n",
              "      <th>4</th>\n",
              "      <th>5</th>\n",
              "      <th>6</th>\n",
              "      <th>7</th>\n",
              "      <th>8</th>\n",
              "      <th>9</th>\n",
              "      <th>10</th>\n",
              "      <th>11</th>\n",
              "      <th>12</th>\n",
              "      <th>13</th>\n",
              "      <th>14</th>\n",
              "    </tr>\n",
              "  </thead>\n",
              "  <tbody>\n",
              "    <tr>\n",
              "      <th>0</th>\n",
              "      <td>1.001534</td>\n",
              "      <td>0.065744</td>\n",
              "      <td>-0.034959</td>\n",
              "      <td>0.066844</td>\n",
              "      <td>0.063219</td>\n",
              "      <td>-0.011585</td>\n",
              "      <td>0.057300</td>\n",
              "      <td>0.085029</td>\n",
              "      <td>-0.023287</td>\n",
              "      <td>-0.065292</td>\n",
              "      <td>-0.016709</td>\n",
              "      <td>0.052395</td>\n",
              "      <td>0.082074</td>\n",
              "      <td>0.109366</td>\n",
              "      <td>0.013119</td>\n",
              "    </tr>\n",
              "    <tr>\n",
              "      <th>1</th>\n",
              "      <td>0.065744</td>\n",
              "      <td>1.001534</td>\n",
              "      <td>0.160642</td>\n",
              "      <td>-0.086741</td>\n",
              "      <td>-0.102732</td>\n",
              "      <td>0.041003</td>\n",
              "      <td>-0.200583</td>\n",
              "      <td>0.410336</td>\n",
              "      <td>0.223022</td>\n",
              "      <td>0.086072</td>\n",
              "      <td>0.191960</td>\n",
              "      <td>0.072118</td>\n",
              "      <td>-0.015586</td>\n",
              "      <td>-0.029578</td>\n",
              "      <td>0.030496</td>\n",
              "    </tr>\n",
              "    <tr>\n",
              "      <th>2</th>\n",
              "      <td>-0.034959</td>\n",
              "      <td>0.160642</td>\n",
              "      <td>1.001534</td>\n",
              "      <td>-0.102400</td>\n",
              "      <td>-0.089882</td>\n",
              "      <td>0.009235</td>\n",
              "      <td>-0.030713</td>\n",
              "      <td>0.301061</td>\n",
              "      <td>0.237114</td>\n",
              "      <td>0.166347</td>\n",
              "      <td>0.270248</td>\n",
              "      <td>-0.006093</td>\n",
              "      <td>-0.105342</td>\n",
              "      <td>-0.266957</td>\n",
              "      <td>0.119937</td>\n",
              "    </tr>\n",
              "    <tr>\n",
              "      <th>3</th>\n",
              "      <td>0.066844</td>\n",
              "      <td>-0.086741</td>\n",
              "      <td>-0.102400</td>\n",
              "      <td>1.001534</td>\n",
              "      <td>0.982585</td>\n",
              "      <td>-0.045093</td>\n",
              "      <td>-0.021047</td>\n",
              "      <td>-0.089787</td>\n",
              "      <td>-0.116192</td>\n",
              "      <td>-0.158360</td>\n",
              "      <td>-0.104221</td>\n",
              "      <td>-0.009865</td>\n",
              "      <td>-0.037992</td>\n",
              "      <td>-0.001087</td>\n",
              "      <td>-0.118687</td>\n",
              "    </tr>\n",
              "    <tr>\n",
              "      <th>4</th>\n",
              "      <td>0.063219</td>\n",
              "      <td>-0.102732</td>\n",
              "      <td>-0.089882</td>\n",
              "      <td>0.982585</td>\n",
              "      <td>1.001534</td>\n",
              "      <td>-0.051413</td>\n",
              "      <td>-0.026042</td>\n",
              "      <td>-0.081988</td>\n",
              "      <td>-0.129288</td>\n",
              "      <td>-0.169952</td>\n",
              "      <td>-0.110992</td>\n",
              "      <td>0.001750</td>\n",
              "      <td>-0.011950</td>\n",
              "      <td>0.013943</td>\n",
              "      <td>-0.018557</td>\n",
              "    </tr>\n",
              "    <tr>\n",
              "      <th>5</th>\n",
              "      <td>-0.011585</td>\n",
              "      <td>0.041003</td>\n",
              "      <td>0.009235</td>\n",
              "      <td>-0.045093</td>\n",
              "      <td>-0.051413</td>\n",
              "      <td>1.001534</td>\n",
              "      <td>-0.000937</td>\n",
              "      <td>0.032754</td>\n",
              "      <td>0.105359</td>\n",
              "      <td>0.112327</td>\n",
              "      <td>-0.002710</td>\n",
              "      <td>0.069827</td>\n",
              "      <td>0.017261</td>\n",
              "      <td>0.108096</td>\n",
              "      <td>-0.006710</td>\n",
              "    </tr>\n",
              "    <tr>\n",
              "      <th>6</th>\n",
              "      <td>0.057300</td>\n",
              "      <td>-0.200583</td>\n",
              "      <td>-0.030713</td>\n",
              "      <td>-0.021047</td>\n",
              "      <td>-0.026042</td>\n",
              "      <td>-0.000937</td>\n",
              "      <td>1.001534</td>\n",
              "      <td>-0.095123</td>\n",
              "      <td>-0.035031</td>\n",
              "      <td>-0.001454</td>\n",
              "      <td>-0.037387</td>\n",
              "      <td>-0.004241</td>\n",
              "      <td>0.042559</td>\n",
              "      <td>-0.019635</td>\n",
              "      <td>-0.022562</td>\n",
              "    </tr>\n",
              "    <tr>\n",
              "      <th>7</th>\n",
              "      <td>0.085029</td>\n",
              "      <td>0.410336</td>\n",
              "      <td>0.301061</td>\n",
              "      <td>-0.089787</td>\n",
              "      <td>-0.081988</td>\n",
              "      <td>0.032754</td>\n",
              "      <td>-0.095123</td>\n",
              "      <td>1.001534</td>\n",
              "      <td>0.336663</td>\n",
              "      <td>0.228385</td>\n",
              "      <td>0.327827</td>\n",
              "      <td>0.139531</td>\n",
              "      <td>-0.001765</td>\n",
              "      <td>-0.093331</td>\n",
              "      <td>0.052239</td>\n",
              "    </tr>\n",
              "    <tr>\n",
              "      <th>8</th>\n",
              "      <td>-0.023287</td>\n",
              "      <td>0.223022</td>\n",
              "      <td>0.237114</td>\n",
              "      <td>-0.116192</td>\n",
              "      <td>-0.129288</td>\n",
              "      <td>0.105359</td>\n",
              "      <td>-0.035031</td>\n",
              "      <td>0.336663</td>\n",
              "      <td>1.001534</td>\n",
              "      <td>0.431247</td>\n",
              "      <td>0.378845</td>\n",
              "      <td>0.090002</td>\n",
              "      <td>-0.110644</td>\n",
              "      <td>-0.064896</td>\n",
              "      <td>0.084557</td>\n",
              "    </tr>\n",
              "    <tr>\n",
              "      <th>9</th>\n",
              "      <td>-0.065292</td>\n",
              "      <td>0.086072</td>\n",
              "      <td>0.166347</td>\n",
              "      <td>-0.158360</td>\n",
              "      <td>-0.169952</td>\n",
              "      <td>0.112327</td>\n",
              "      <td>-0.001454</td>\n",
              "      <td>0.228385</td>\n",
              "      <td>0.431247</td>\n",
              "      <td>1.001534</td>\n",
              "      <td>0.570049</td>\n",
              "      <td>0.020254</td>\n",
              "      <td>-0.233810</td>\n",
              "      <td>-0.071048</td>\n",
              "      <td>0.068294</td>\n",
              "    </tr>\n",
              "    <tr>\n",
              "      <th>10</th>\n",
              "      <td>-0.016709</td>\n",
              "      <td>0.191960</td>\n",
              "      <td>0.270248</td>\n",
              "      <td>-0.104221</td>\n",
              "      <td>-0.110992</td>\n",
              "      <td>-0.002710</td>\n",
              "      <td>-0.037387</td>\n",
              "      <td>0.327827</td>\n",
              "      <td>0.378845</td>\n",
              "      <td>0.570049</td>\n",
              "      <td>1.001534</td>\n",
              "      <td>0.005766</td>\n",
              "      <td>-0.134297</td>\n",
              "      <td>-0.131669</td>\n",
              "      <td>0.058497</td>\n",
              "    </tr>\n",
              "    <tr>\n",
              "      <th>11</th>\n",
              "      <td>0.052395</td>\n",
              "      <td>0.072118</td>\n",
              "      <td>-0.006093</td>\n",
              "      <td>-0.009865</td>\n",
              "      <td>0.001750</td>\n",
              "      <td>0.069827</td>\n",
              "      <td>-0.004241</td>\n",
              "      <td>0.139531</td>\n",
              "      <td>0.090002</td>\n",
              "      <td>0.020254</td>\n",
              "      <td>0.005766</td>\n",
              "      <td>1.001534</td>\n",
              "      <td>0.017131</td>\n",
              "      <td>0.160610</td>\n",
              "      <td>0.027576</td>\n",
              "    </tr>\n",
              "    <tr>\n",
              "      <th>12</th>\n",
              "      <td>0.082074</td>\n",
              "      <td>-0.015586</td>\n",
              "      <td>-0.105342</td>\n",
              "      <td>-0.037992</td>\n",
              "      <td>-0.011950</td>\n",
              "      <td>0.017261</td>\n",
              "      <td>0.042559</td>\n",
              "      <td>-0.001765</td>\n",
              "      <td>-0.110644</td>\n",
              "      <td>-0.233810</td>\n",
              "      <td>-0.134297</td>\n",
              "      <td>0.017131</td>\n",
              "      <td>1.001534</td>\n",
              "      <td>0.064326</td>\n",
              "      <td>-0.005027</td>\n",
              "    </tr>\n",
              "    <tr>\n",
              "      <th>13</th>\n",
              "      <td>0.109366</td>\n",
              "      <td>-0.029578</td>\n",
              "      <td>-0.266957</td>\n",
              "      <td>-0.001087</td>\n",
              "      <td>0.013943</td>\n",
              "      <td>0.108096</td>\n",
              "      <td>-0.019635</td>\n",
              "      <td>-0.093331</td>\n",
              "      <td>-0.064896</td>\n",
              "      <td>-0.071048</td>\n",
              "      <td>-0.131669</td>\n",
              "      <td>0.160610</td>\n",
              "      <td>0.064326</td>\n",
              "      <td>1.001534</td>\n",
              "      <td>0.083853</td>\n",
              "    </tr>\n",
              "    <tr>\n",
              "      <th>14</th>\n",
              "      <td>0.013119</td>\n",
              "      <td>0.030496</td>\n",
              "      <td>0.119937</td>\n",
              "      <td>-0.118687</td>\n",
              "      <td>-0.018557</td>\n",
              "      <td>-0.006710</td>\n",
              "      <td>-0.022562</td>\n",
              "      <td>0.052239</td>\n",
              "      <td>0.084557</td>\n",
              "      <td>0.068294</td>\n",
              "      <td>0.058497</td>\n",
              "      <td>0.027576</td>\n",
              "      <td>-0.005027</td>\n",
              "      <td>0.083853</td>\n",
              "      <td>1.001534</td>\n",
              "    </tr>\n",
              "  </tbody>\n",
              "</table>\n",
              "</div>\n",
              "      <button class=\"colab-df-convert\" onclick=\"convertToInteractive('df-f8c89417-a70e-453e-a5d5-ae6898a20229')\"\n",
              "              title=\"Convert this dataframe to an interactive table.\"\n",
              "              style=\"display:none;\">\n",
              "        \n",
              "  <svg xmlns=\"http://www.w3.org/2000/svg\" height=\"24px\"viewBox=\"0 0 24 24\"\n",
              "       width=\"24px\">\n",
              "    <path d=\"M0 0h24v24H0V0z\" fill=\"none\"/>\n",
              "    <path d=\"M18.56 5.44l.94 2.06.94-2.06 2.06-.94-2.06-.94-.94-2.06-.94 2.06-2.06.94zm-11 1L8.5 8.5l.94-2.06 2.06-.94-2.06-.94L8.5 2.5l-.94 2.06-2.06.94zm10 10l.94 2.06.94-2.06 2.06-.94-2.06-.94-.94-2.06-.94 2.06-2.06.94z\"/><path d=\"M17.41 7.96l-1.37-1.37c-.4-.4-.92-.59-1.43-.59-.52 0-1.04.2-1.43.59L10.3 9.45l-7.72 7.72c-.78.78-.78 2.05 0 2.83L4 21.41c.39.39.9.59 1.41.59.51 0 1.02-.2 1.41-.59l7.78-7.78 2.81-2.81c.8-.78.8-2.07 0-2.86zM5.41 20L4 18.59l7.72-7.72 1.47 1.35L5.41 20z\"/>\n",
              "  </svg>\n",
              "      </button>\n",
              "      \n",
              "  <style>\n",
              "    .colab-df-container {\n",
              "      display:flex;\n",
              "      flex-wrap:wrap;\n",
              "      gap: 12px;\n",
              "    }\n",
              "\n",
              "    .colab-df-convert {\n",
              "      background-color: #E8F0FE;\n",
              "      border: none;\n",
              "      border-radius: 50%;\n",
              "      cursor: pointer;\n",
              "      display: none;\n",
              "      fill: #1967D2;\n",
              "      height: 32px;\n",
              "      padding: 0 0 0 0;\n",
              "      width: 32px;\n",
              "    }\n",
              "\n",
              "    .colab-df-convert:hover {\n",
              "      background-color: #E2EBFA;\n",
              "      box-shadow: 0px 1px 2px rgba(60, 64, 67, 0.3), 0px 1px 3px 1px rgba(60, 64, 67, 0.15);\n",
              "      fill: #174EA6;\n",
              "    }\n",
              "\n",
              "    [theme=dark] .colab-df-convert {\n",
              "      background-color: #3B4455;\n",
              "      fill: #D2E3FC;\n",
              "    }\n",
              "\n",
              "    [theme=dark] .colab-df-convert:hover {\n",
              "      background-color: #434B5C;\n",
              "      box-shadow: 0px 1px 3px 1px rgba(0, 0, 0, 0.15);\n",
              "      filter: drop-shadow(0px 1px 2px rgba(0, 0, 0, 0.3));\n",
              "      fill: #FFFFFF;\n",
              "    }\n",
              "  </style>\n",
              "\n",
              "      <script>\n",
              "        const buttonEl =\n",
              "          document.querySelector('#df-f8c89417-a70e-453e-a5d5-ae6898a20229 button.colab-df-convert');\n",
              "        buttonEl.style.display =\n",
              "          google.colab.kernel.accessAllowed ? 'block' : 'none';\n",
              "\n",
              "        async function convertToInteractive(key) {\n",
              "          const element = document.querySelector('#df-f8c89417-a70e-453e-a5d5-ae6898a20229');\n",
              "          const dataTable =\n",
              "            await google.colab.kernel.invokeFunction('convertToInteractive',\n",
              "                                                     [key], {});\n",
              "          if (!dataTable) return;\n",
              "\n",
              "          const docLinkHtml = 'Like what you see? Visit the ' +\n",
              "            '<a target=\"_blank\" href=https://colab.research.google.com/notebooks/data_table.ipynb>data table notebook</a>'\n",
              "            + ' to learn more about interactive tables.';\n",
              "          element.innerHTML = '';\n",
              "          dataTable['output_type'] = 'display_data';\n",
              "          await google.colab.output.renderOutput(dataTable, element);\n",
              "          const docLink = document.createElement('div');\n",
              "          docLink.innerHTML = docLinkHtml;\n",
              "          element.appendChild(docLink);\n",
              "        }\n",
              "      </script>\n",
              "    </div>\n",
              "  </div>\n",
              "  "
            ],
            "text/plain": [
              "          0         1         2   ...        12        13        14\n",
              "0   1.001534  0.065744 -0.034959  ...  0.082074  0.109366  0.013119\n",
              "1   0.065744  1.001534  0.160642  ... -0.015586 -0.029578  0.030496\n",
              "2  -0.034959  0.160642  1.001534  ... -0.105342 -0.266957  0.119937\n",
              "3   0.066844 -0.086741 -0.102400  ... -0.037992 -0.001087 -0.118687\n",
              "4   0.063219 -0.102732 -0.089882  ... -0.011950  0.013943 -0.018557\n",
              "5  -0.011585  0.041003  0.009235  ...  0.017261  0.108096 -0.006710\n",
              "6   0.057300 -0.200583 -0.030713  ...  0.042559 -0.019635 -0.022562\n",
              "7   0.085029  0.410336  0.301061  ... -0.001765 -0.093331  0.052239\n",
              "8  -0.023287  0.223022  0.237114  ... -0.110644 -0.064896  0.084557\n",
              "9  -0.065292  0.086072  0.166347  ... -0.233810 -0.071048  0.068294\n",
              "10 -0.016709  0.191960  0.270248  ... -0.134297 -0.131669  0.058497\n",
              "11  0.052395  0.072118 -0.006093  ...  0.017131  0.160610  0.027576\n",
              "12  0.082074 -0.015586 -0.105342  ...  1.001534  0.064326 -0.005027\n",
              "13  0.109366 -0.029578 -0.266957  ...  0.064326  1.001534  0.083853\n",
              "14  0.013119  0.030496  0.119937  ... -0.005027  0.083853  1.001534\n",
              "\n",
              "[15 rows x 15 columns]"
            ]
          },
          "metadata": {},
          "execution_count": 343
        }
      ]
    }
  ]
}